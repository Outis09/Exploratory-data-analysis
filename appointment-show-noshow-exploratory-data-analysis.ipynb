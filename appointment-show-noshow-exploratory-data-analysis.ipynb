{
 "cells": [
  {
   "cell_type": "markdown",
   "metadata": {},
   "source": [
    "# Project: Identifying factors that affect show/no show for a medical appointment\n",
    "\n",
    "## Table of Contents\n",
    "<ul>\n",
    "<li><a href=\"#intro\">Introduction</a></li>\n",
    "<li><a href=\"#wrangling\">Data Wrangling</a></li>\n",
    "<li><a href=\"#eda\">Exploratory Data Analysis</a></li>\n",
    "<li><a href=\"#conclusions\">Conclusions</a></li>\n",
    "</ul>"
   ]
  },
  {
   "cell_type": "markdown",
   "metadata": {},
   "source": [
    "<a id='intro'></a>\n",
    "## Introduction\n",
    "\n",
    "Out of over 110,000 medical appointments, about 30% of them were no shows. That is, patients did not show up to the appointment after scheduling the appointment. Data has been collected on all appointments and patients. I intend to explore the dataset and identify variables that can be used in predicting show/no-show. I will also analyze the effect of certain variables on show/no-show.\n",
    "\n",
    "The dependent column is the `No-show` column that tells whether a patient showed up for their appointment or not.\n",
    "The independent variables include:\n",
    "* Gender\n",
    "* Scholarship\n",
    "* Alcoholism\n",
    "* Hypertension\n",
    "* Diabetes\n",
    "* Handicap\n",
    "* SMSReceived\n",
    "\n",
    "Other characteristics include:\n",
    "* Age\n",
    "* Appointment date\n",
    "* Schedule date\n",
    "* Neighbourhood\n",
    "\n",
    "The dataset can be accessed on [kaggle](https://www.kaggle.com/datasets/joniarroba/noshowappointments).\n",
    "\n",
    "More information on the scholarship variable can be found on [Wikipedia](https://en.wikipedia.org/wiki/Bolsa_Fam%C3%ADlia)."
   ]
  },
  {
   "cell_type": "code",
   "execution_count": 1,
   "metadata": {
    "execution": {
     "iopub.execute_input": "2022-09-27T11:21:17.179903Z",
     "iopub.status.busy": "2022-09-27T11:21:17.179460Z",
     "iopub.status.idle": "2022-09-27T11:21:18.439875Z",
     "shell.execute_reply": "2022-09-27T11:21:18.438338Z",
     "shell.execute_reply.started": "2022-09-27T11:21:17.179811Z"
    }
   },
   "outputs": [],
   "source": [
    "#importing modules\n",
    "import numpy as np\n",
    "import pandas as pd\n",
    "import matplotlib.pyplot as plt\n",
    "import seaborn as sns\n",
    "%matplotlib inline"
   ]
  },
  {
   "cell_type": "markdown",
   "metadata": {},
   "source": [
    "<a id='wrangling'></a>\n",
    "## Data Wrangling\n",
    "\n",
    "\n",
    "### Importing data"
   ]
  },
  {
   "cell_type": "code",
   "execution_count": 2,
   "metadata": {
    "execution": {
     "iopub.execute_input": "2022-09-27T11:21:18.442689Z",
     "iopub.status.busy": "2022-09-27T11:21:18.442186Z",
     "iopub.status.idle": "2022-09-27T11:21:18.956421Z",
     "shell.execute_reply": "2022-09-27T11:21:18.954702Z",
     "shell.execute_reply.started": "2022-09-27T11:21:18.442638Z"
    },
    "scrolled": true
   },
   "outputs": [
    {
     "data": {
      "text/html": [
       "<div>\n",
       "<style scoped>\n",
       "    .dataframe tbody tr th:only-of-type {\n",
       "        vertical-align: middle;\n",
       "    }\n",
       "\n",
       "    .dataframe tbody tr th {\n",
       "        vertical-align: top;\n",
       "    }\n",
       "\n",
       "    .dataframe thead th {\n",
       "        text-align: right;\n",
       "    }\n",
       "</style>\n",
       "<table border=\"1\" class=\"dataframe\">\n",
       "  <thead>\n",
       "    <tr style=\"text-align: right;\">\n",
       "      <th></th>\n",
       "      <th>PatientId</th>\n",
       "      <th>AppointmentID</th>\n",
       "      <th>Gender</th>\n",
       "      <th>ScheduledDay</th>\n",
       "      <th>AppointmentDay</th>\n",
       "      <th>Age</th>\n",
       "      <th>Neighbourhood</th>\n",
       "      <th>Scholarship</th>\n",
       "      <th>Hipertension</th>\n",
       "      <th>Diabetes</th>\n",
       "      <th>Alcoholism</th>\n",
       "      <th>Handcap</th>\n",
       "      <th>SMS_received</th>\n",
       "      <th>No-show</th>\n",
       "    </tr>\n",
       "  </thead>\n",
       "  <tbody>\n",
       "    <tr>\n",
       "      <th>0</th>\n",
       "      <td>2.987250e+13</td>\n",
       "      <td>5642903</td>\n",
       "      <td>F</td>\n",
       "      <td>2016-04-29T18:38:08Z</td>\n",
       "      <td>2016-04-29T00:00:00Z</td>\n",
       "      <td>62</td>\n",
       "      <td>JARDIM DA PENHA</td>\n",
       "      <td>0</td>\n",
       "      <td>1</td>\n",
       "      <td>0</td>\n",
       "      <td>0</td>\n",
       "      <td>0</td>\n",
       "      <td>0</td>\n",
       "      <td>No</td>\n",
       "    </tr>\n",
       "    <tr>\n",
       "      <th>1</th>\n",
       "      <td>5.589978e+14</td>\n",
       "      <td>5642503</td>\n",
       "      <td>M</td>\n",
       "      <td>2016-04-29T16:08:27Z</td>\n",
       "      <td>2016-04-29T00:00:00Z</td>\n",
       "      <td>56</td>\n",
       "      <td>JARDIM DA PENHA</td>\n",
       "      <td>0</td>\n",
       "      <td>0</td>\n",
       "      <td>0</td>\n",
       "      <td>0</td>\n",
       "      <td>0</td>\n",
       "      <td>0</td>\n",
       "      <td>No</td>\n",
       "    </tr>\n",
       "    <tr>\n",
       "      <th>2</th>\n",
       "      <td>4.262962e+12</td>\n",
       "      <td>5642549</td>\n",
       "      <td>F</td>\n",
       "      <td>2016-04-29T16:19:04Z</td>\n",
       "      <td>2016-04-29T00:00:00Z</td>\n",
       "      <td>62</td>\n",
       "      <td>MATA DA PRAIA</td>\n",
       "      <td>0</td>\n",
       "      <td>0</td>\n",
       "      <td>0</td>\n",
       "      <td>0</td>\n",
       "      <td>0</td>\n",
       "      <td>0</td>\n",
       "      <td>No</td>\n",
       "    </tr>\n",
       "    <tr>\n",
       "      <th>3</th>\n",
       "      <td>8.679512e+11</td>\n",
       "      <td>5642828</td>\n",
       "      <td>F</td>\n",
       "      <td>2016-04-29T17:29:31Z</td>\n",
       "      <td>2016-04-29T00:00:00Z</td>\n",
       "      <td>8</td>\n",
       "      <td>PONTAL DE CAMBURI</td>\n",
       "      <td>0</td>\n",
       "      <td>0</td>\n",
       "      <td>0</td>\n",
       "      <td>0</td>\n",
       "      <td>0</td>\n",
       "      <td>0</td>\n",
       "      <td>No</td>\n",
       "    </tr>\n",
       "    <tr>\n",
       "      <th>4</th>\n",
       "      <td>8.841186e+12</td>\n",
       "      <td>5642494</td>\n",
       "      <td>F</td>\n",
       "      <td>2016-04-29T16:07:23Z</td>\n",
       "      <td>2016-04-29T00:00:00Z</td>\n",
       "      <td>56</td>\n",
       "      <td>JARDIM DA PENHA</td>\n",
       "      <td>0</td>\n",
       "      <td>1</td>\n",
       "      <td>1</td>\n",
       "      <td>0</td>\n",
       "      <td>0</td>\n",
       "      <td>0</td>\n",
       "      <td>No</td>\n",
       "    </tr>\n",
       "  </tbody>\n",
       "</table>\n",
       "</div>"
      ],
      "text/plain": [
       "      PatientId  AppointmentID Gender          ScheduledDay  \\\n",
       "0  2.987250e+13        5642903      F  2016-04-29T18:38:08Z   \n",
       "1  5.589978e+14        5642503      M  2016-04-29T16:08:27Z   \n",
       "2  4.262962e+12        5642549      F  2016-04-29T16:19:04Z   \n",
       "3  8.679512e+11        5642828      F  2016-04-29T17:29:31Z   \n",
       "4  8.841186e+12        5642494      F  2016-04-29T16:07:23Z   \n",
       "\n",
       "         AppointmentDay  Age      Neighbourhood  Scholarship  Hipertension  \\\n",
       "0  2016-04-29T00:00:00Z   62    JARDIM DA PENHA            0             1   \n",
       "1  2016-04-29T00:00:00Z   56    JARDIM DA PENHA            0             0   \n",
       "2  2016-04-29T00:00:00Z   62      MATA DA PRAIA            0             0   \n",
       "3  2016-04-29T00:00:00Z    8  PONTAL DE CAMBURI            0             0   \n",
       "4  2016-04-29T00:00:00Z   56    JARDIM DA PENHA            0             1   \n",
       "\n",
       "   Diabetes  Alcoholism  Handcap  SMS_received No-show  \n",
       "0         0           0        0             0      No  \n",
       "1         0           0        0             0      No  \n",
       "2         0           0        0             0      No  \n",
       "3         0           0        0             0      No  \n",
       "4         1           0        0             0      No  "
      ]
     },
     "execution_count": 2,
     "metadata": {},
     "output_type": "execute_result"
    }
   ],
   "source": [
    "# reading data into a dataframe\n",
    "df = pd.read_csv('../input/noshowappointments/KaggleV2-May-2016.csv')\n",
    "# displaying first five rows\n",
    "df.head()"
   ]
  },
  {
   "cell_type": "markdown",
   "metadata": {},
   "source": [
    "### Assessing data"
   ]
  },
  {
   "cell_type": "code",
   "execution_count": 3,
   "metadata": {
    "execution": {
     "iopub.execute_input": "2022-09-27T11:21:18.958761Z",
     "iopub.status.busy": "2022-09-27T11:21:18.958290Z",
     "iopub.status.idle": "2022-09-27T11:21:18.988491Z",
     "shell.execute_reply": "2022-09-27T11:21:18.987565Z",
     "shell.execute_reply.started": "2022-09-27T11:21:18.958713Z"
    }
   },
   "outputs": [
    {
     "data": {
      "text/html": [
       "<div>\n",
       "<style scoped>\n",
       "    .dataframe tbody tr th:only-of-type {\n",
       "        vertical-align: middle;\n",
       "    }\n",
       "\n",
       "    .dataframe tbody tr th {\n",
       "        vertical-align: top;\n",
       "    }\n",
       "\n",
       "    .dataframe thead th {\n",
       "        text-align: right;\n",
       "    }\n",
       "</style>\n",
       "<table border=\"1\" class=\"dataframe\">\n",
       "  <thead>\n",
       "    <tr style=\"text-align: right;\">\n",
       "      <th></th>\n",
       "      <th>PatientId</th>\n",
       "      <th>AppointmentID</th>\n",
       "      <th>Gender</th>\n",
       "      <th>ScheduledDay</th>\n",
       "      <th>AppointmentDay</th>\n",
       "      <th>Age</th>\n",
       "      <th>Neighbourhood</th>\n",
       "      <th>Scholarship</th>\n",
       "      <th>Hipertension</th>\n",
       "      <th>Diabetes</th>\n",
       "      <th>Alcoholism</th>\n",
       "      <th>Handcap</th>\n",
       "      <th>SMS_received</th>\n",
       "      <th>No-show</th>\n",
       "    </tr>\n",
       "  </thead>\n",
       "  <tbody>\n",
       "    <tr>\n",
       "      <th>35219</th>\n",
       "      <td>3.264252e+13</td>\n",
       "      <td>5669221</td>\n",
       "      <td>F</td>\n",
       "      <td>2016-05-06T10:33:18Z</td>\n",
       "      <td>2016-05-30T00:00:00Z</td>\n",
       "      <td>53</td>\n",
       "      <td>SANTOS DUMONT</td>\n",
       "      <td>0</td>\n",
       "      <td>0</td>\n",
       "      <td>0</td>\n",
       "      <td>0</td>\n",
       "      <td>0</td>\n",
       "      <td>1</td>\n",
       "      <td>No</td>\n",
       "    </tr>\n",
       "    <tr>\n",
       "      <th>54912</th>\n",
       "      <td>5.177525e+13</td>\n",
       "      <td>5618861</td>\n",
       "      <td>F</td>\n",
       "      <td>2016-04-26T07:29:43Z</td>\n",
       "      <td>2016-05-02T00:00:00Z</td>\n",
       "      <td>53</td>\n",
       "      <td>DA PENHA</td>\n",
       "      <td>0</td>\n",
       "      <td>1</td>\n",
       "      <td>0</td>\n",
       "      <td>0</td>\n",
       "      <td>0</td>\n",
       "      <td>1</td>\n",
       "      <td>No</td>\n",
       "    </tr>\n",
       "    <tr>\n",
       "      <th>25155</th>\n",
       "      <td>4.855692e+13</td>\n",
       "      <td>5632994</td>\n",
       "      <td>M</td>\n",
       "      <td>2016-04-28T08:41:09Z</td>\n",
       "      <td>2016-05-09T00:00:00Z</td>\n",
       "      <td>44</td>\n",
       "      <td>ANDORINHAS</td>\n",
       "      <td>0</td>\n",
       "      <td>1</td>\n",
       "      <td>1</td>\n",
       "      <td>0</td>\n",
       "      <td>1</td>\n",
       "      <td>0</td>\n",
       "      <td>No</td>\n",
       "    </tr>\n",
       "    <tr>\n",
       "      <th>50707</th>\n",
       "      <td>6.927849e+14</td>\n",
       "      <td>5605306</td>\n",
       "      <td>F</td>\n",
       "      <td>2016-04-20T08:51:08Z</td>\n",
       "      <td>2016-05-13T00:00:00Z</td>\n",
       "      <td>18</td>\n",
       "      <td>JABOUR</td>\n",
       "      <td>0</td>\n",
       "      <td>0</td>\n",
       "      <td>0</td>\n",
       "      <td>0</td>\n",
       "      <td>0</td>\n",
       "      <td>0</td>\n",
       "      <td>No</td>\n",
       "    </tr>\n",
       "    <tr>\n",
       "      <th>1428</th>\n",
       "      <td>2.359689e+13</td>\n",
       "      <td>5447464</td>\n",
       "      <td>F</td>\n",
       "      <td>2016-03-09T10:10:44Z</td>\n",
       "      <td>2016-04-29T00:00:00Z</td>\n",
       "      <td>69</td>\n",
       "      <td>SANTA TEREZA</td>\n",
       "      <td>0</td>\n",
       "      <td>0</td>\n",
       "      <td>0</td>\n",
       "      <td>0</td>\n",
       "      <td>0</td>\n",
       "      <td>1</td>\n",
       "      <td>No</td>\n",
       "    </tr>\n",
       "    <tr>\n",
       "      <th>19869</th>\n",
       "      <td>4.662918e+14</td>\n",
       "      <td>5625367</td>\n",
       "      <td>F</td>\n",
       "      <td>2016-04-27T07:10:40Z</td>\n",
       "      <td>2016-05-11T00:00:00Z</td>\n",
       "      <td>17</td>\n",
       "      <td>BELA VISTA</td>\n",
       "      <td>0</td>\n",
       "      <td>0</td>\n",
       "      <td>0</td>\n",
       "      <td>0</td>\n",
       "      <td>0</td>\n",
       "      <td>1</td>\n",
       "      <td>Yes</td>\n",
       "    </tr>\n",
       "    <tr>\n",
       "      <th>27738</th>\n",
       "      <td>5.526357e+14</td>\n",
       "      <td>5570273</td>\n",
       "      <td>F</td>\n",
       "      <td>2016-04-12T07:42:08Z</td>\n",
       "      <td>2016-05-03T00:00:00Z</td>\n",
       "      <td>28</td>\n",
       "      <td>MARUÍPE</td>\n",
       "      <td>0</td>\n",
       "      <td>0</td>\n",
       "      <td>0</td>\n",
       "      <td>0</td>\n",
       "      <td>0</td>\n",
       "      <td>1</td>\n",
       "      <td>No</td>\n",
       "    </tr>\n",
       "    <tr>\n",
       "      <th>38905</th>\n",
       "      <td>2.643586e+13</td>\n",
       "      <td>5657191</td>\n",
       "      <td>M</td>\n",
       "      <td>2016-05-04T09:02:10Z</td>\n",
       "      <td>2016-05-04T00:00:00Z</td>\n",
       "      <td>74</td>\n",
       "      <td>SANTA TEREZA</td>\n",
       "      <td>0</td>\n",
       "      <td>1</td>\n",
       "      <td>0</td>\n",
       "      <td>0</td>\n",
       "      <td>0</td>\n",
       "      <td>0</td>\n",
       "      <td>No</td>\n",
       "    </tr>\n",
       "    <tr>\n",
       "      <th>83889</th>\n",
       "      <td>4.325636e+14</td>\n",
       "      <td>5666293</td>\n",
       "      <td>F</td>\n",
       "      <td>2016-05-05T16:23:51Z</td>\n",
       "      <td>2016-05-11T00:00:00Z</td>\n",
       "      <td>19</td>\n",
       "      <td>BOA VISTA</td>\n",
       "      <td>0</td>\n",
       "      <td>0</td>\n",
       "      <td>0</td>\n",
       "      <td>0</td>\n",
       "      <td>0</td>\n",
       "      <td>1</td>\n",
       "      <td>No</td>\n",
       "    </tr>\n",
       "    <tr>\n",
       "      <th>35462</th>\n",
       "      <td>6.677236e+12</td>\n",
       "      <td>5736544</td>\n",
       "      <td>F</td>\n",
       "      <td>2016-05-25T08:29:46Z</td>\n",
       "      <td>2016-05-25T00:00:00Z</td>\n",
       "      <td>52</td>\n",
       "      <td>JESUS DE NAZARETH</td>\n",
       "      <td>0</td>\n",
       "      <td>1</td>\n",
       "      <td>0</td>\n",
       "      <td>0</td>\n",
       "      <td>0</td>\n",
       "      <td>0</td>\n",
       "      <td>No</td>\n",
       "    </tr>\n",
       "  </tbody>\n",
       "</table>\n",
       "</div>"
      ],
      "text/plain": [
       "          PatientId  AppointmentID Gender          ScheduledDay  \\\n",
       "35219  3.264252e+13        5669221      F  2016-05-06T10:33:18Z   \n",
       "54912  5.177525e+13        5618861      F  2016-04-26T07:29:43Z   \n",
       "25155  4.855692e+13        5632994      M  2016-04-28T08:41:09Z   \n",
       "50707  6.927849e+14        5605306      F  2016-04-20T08:51:08Z   \n",
       "1428   2.359689e+13        5447464      F  2016-03-09T10:10:44Z   \n",
       "19869  4.662918e+14        5625367      F  2016-04-27T07:10:40Z   \n",
       "27738  5.526357e+14        5570273      F  2016-04-12T07:42:08Z   \n",
       "38905  2.643586e+13        5657191      M  2016-05-04T09:02:10Z   \n",
       "83889  4.325636e+14        5666293      F  2016-05-05T16:23:51Z   \n",
       "35462  6.677236e+12        5736544      F  2016-05-25T08:29:46Z   \n",
       "\n",
       "             AppointmentDay  Age      Neighbourhood  Scholarship  \\\n",
       "35219  2016-05-30T00:00:00Z   53      SANTOS DUMONT            0   \n",
       "54912  2016-05-02T00:00:00Z   53           DA PENHA            0   \n",
       "25155  2016-05-09T00:00:00Z   44         ANDORINHAS            0   \n",
       "50707  2016-05-13T00:00:00Z   18             JABOUR            0   \n",
       "1428   2016-04-29T00:00:00Z   69       SANTA TEREZA            0   \n",
       "19869  2016-05-11T00:00:00Z   17         BELA VISTA            0   \n",
       "27738  2016-05-03T00:00:00Z   28            MARUÍPE            0   \n",
       "38905  2016-05-04T00:00:00Z   74       SANTA TEREZA            0   \n",
       "83889  2016-05-11T00:00:00Z   19          BOA VISTA            0   \n",
       "35462  2016-05-25T00:00:00Z   52  JESUS DE NAZARETH            0   \n",
       "\n",
       "       Hipertension  Diabetes  Alcoholism  Handcap  SMS_received No-show  \n",
       "35219             0         0           0        0             1      No  \n",
       "54912             1         0           0        0             1      No  \n",
       "25155             1         1           0        1             0      No  \n",
       "50707             0         0           0        0             0      No  \n",
       "1428              0         0           0        0             1      No  \n",
       "19869             0         0           0        0             1     Yes  \n",
       "27738             0         0           0        0             1      No  \n",
       "38905             1         0           0        0             0      No  \n",
       "83889             0         0           0        0             1      No  \n",
       "35462             1         0           0        0             0      No  "
      ]
     },
     "execution_count": 3,
     "metadata": {},
     "output_type": "execute_result"
    }
   ],
   "source": [
    "#10 random rows of the dataframe\n",
    "df.sample(10)"
   ]
  },
  {
   "cell_type": "code",
   "execution_count": 4,
   "metadata": {
    "execution": {
     "iopub.execute_input": "2022-09-27T11:21:18.991215Z",
     "iopub.status.busy": "2022-09-27T11:21:18.990822Z",
     "iopub.status.idle": "2022-09-27T11:21:19.011679Z",
     "shell.execute_reply": "2022-09-27T11:21:19.009897Z",
     "shell.execute_reply.started": "2022-09-27T11:21:18.991181Z"
    }
   },
   "outputs": [
    {
     "data": {
      "text/html": [
       "<div>\n",
       "<style scoped>\n",
       "    .dataframe tbody tr th:only-of-type {\n",
       "        vertical-align: middle;\n",
       "    }\n",
       "\n",
       "    .dataframe tbody tr th {\n",
       "        vertical-align: top;\n",
       "    }\n",
       "\n",
       "    .dataframe thead th {\n",
       "        text-align: right;\n",
       "    }\n",
       "</style>\n",
       "<table border=\"1\" class=\"dataframe\">\n",
       "  <thead>\n",
       "    <tr style=\"text-align: right;\">\n",
       "      <th></th>\n",
       "      <th>PatientId</th>\n",
       "      <th>AppointmentID</th>\n",
       "      <th>Gender</th>\n",
       "      <th>ScheduledDay</th>\n",
       "      <th>AppointmentDay</th>\n",
       "      <th>Age</th>\n",
       "      <th>Neighbourhood</th>\n",
       "      <th>Scholarship</th>\n",
       "      <th>Hipertension</th>\n",
       "      <th>Diabetes</th>\n",
       "      <th>Alcoholism</th>\n",
       "      <th>Handcap</th>\n",
       "      <th>SMS_received</th>\n",
       "      <th>No-show</th>\n",
       "    </tr>\n",
       "  </thead>\n",
       "  <tbody>\n",
       "    <tr>\n",
       "      <th>110522</th>\n",
       "      <td>2.572134e+12</td>\n",
       "      <td>5651768</td>\n",
       "      <td>F</td>\n",
       "      <td>2016-05-03T09:15:35Z</td>\n",
       "      <td>2016-06-07T00:00:00Z</td>\n",
       "      <td>56</td>\n",
       "      <td>MARIA ORTIZ</td>\n",
       "      <td>0</td>\n",
       "      <td>0</td>\n",
       "      <td>0</td>\n",
       "      <td>0</td>\n",
       "      <td>0</td>\n",
       "      <td>1</td>\n",
       "      <td>No</td>\n",
       "    </tr>\n",
       "    <tr>\n",
       "      <th>110523</th>\n",
       "      <td>3.596266e+12</td>\n",
       "      <td>5650093</td>\n",
       "      <td>F</td>\n",
       "      <td>2016-05-03T07:27:33Z</td>\n",
       "      <td>2016-06-07T00:00:00Z</td>\n",
       "      <td>51</td>\n",
       "      <td>MARIA ORTIZ</td>\n",
       "      <td>0</td>\n",
       "      <td>0</td>\n",
       "      <td>0</td>\n",
       "      <td>0</td>\n",
       "      <td>0</td>\n",
       "      <td>1</td>\n",
       "      <td>No</td>\n",
       "    </tr>\n",
       "    <tr>\n",
       "      <th>110524</th>\n",
       "      <td>1.557663e+13</td>\n",
       "      <td>5630692</td>\n",
       "      <td>F</td>\n",
       "      <td>2016-04-27T16:03:52Z</td>\n",
       "      <td>2016-06-07T00:00:00Z</td>\n",
       "      <td>21</td>\n",
       "      <td>MARIA ORTIZ</td>\n",
       "      <td>0</td>\n",
       "      <td>0</td>\n",
       "      <td>0</td>\n",
       "      <td>0</td>\n",
       "      <td>0</td>\n",
       "      <td>1</td>\n",
       "      <td>No</td>\n",
       "    </tr>\n",
       "    <tr>\n",
       "      <th>110525</th>\n",
       "      <td>9.213493e+13</td>\n",
       "      <td>5630323</td>\n",
       "      <td>F</td>\n",
       "      <td>2016-04-27T15:09:23Z</td>\n",
       "      <td>2016-06-07T00:00:00Z</td>\n",
       "      <td>38</td>\n",
       "      <td>MARIA ORTIZ</td>\n",
       "      <td>0</td>\n",
       "      <td>0</td>\n",
       "      <td>0</td>\n",
       "      <td>0</td>\n",
       "      <td>0</td>\n",
       "      <td>1</td>\n",
       "      <td>No</td>\n",
       "    </tr>\n",
       "    <tr>\n",
       "      <th>110526</th>\n",
       "      <td>3.775115e+14</td>\n",
       "      <td>5629448</td>\n",
       "      <td>F</td>\n",
       "      <td>2016-04-27T13:30:56Z</td>\n",
       "      <td>2016-06-07T00:00:00Z</td>\n",
       "      <td>54</td>\n",
       "      <td>MARIA ORTIZ</td>\n",
       "      <td>0</td>\n",
       "      <td>0</td>\n",
       "      <td>0</td>\n",
       "      <td>0</td>\n",
       "      <td>0</td>\n",
       "      <td>1</td>\n",
       "      <td>No</td>\n",
       "    </tr>\n",
       "  </tbody>\n",
       "</table>\n",
       "</div>"
      ],
      "text/plain": [
       "           PatientId  AppointmentID Gender          ScheduledDay  \\\n",
       "110522  2.572134e+12        5651768      F  2016-05-03T09:15:35Z   \n",
       "110523  3.596266e+12        5650093      F  2016-05-03T07:27:33Z   \n",
       "110524  1.557663e+13        5630692      F  2016-04-27T16:03:52Z   \n",
       "110525  9.213493e+13        5630323      F  2016-04-27T15:09:23Z   \n",
       "110526  3.775115e+14        5629448      F  2016-04-27T13:30:56Z   \n",
       "\n",
       "              AppointmentDay  Age Neighbourhood  Scholarship  Hipertension  \\\n",
       "110522  2016-06-07T00:00:00Z   56   MARIA ORTIZ            0             0   \n",
       "110523  2016-06-07T00:00:00Z   51   MARIA ORTIZ            0             0   \n",
       "110524  2016-06-07T00:00:00Z   21   MARIA ORTIZ            0             0   \n",
       "110525  2016-06-07T00:00:00Z   38   MARIA ORTIZ            0             0   \n",
       "110526  2016-06-07T00:00:00Z   54   MARIA ORTIZ            0             0   \n",
       "\n",
       "        Diabetes  Alcoholism  Handcap  SMS_received No-show  \n",
       "110522         0           0        0             1      No  \n",
       "110523         0           0        0             1      No  \n",
       "110524         0           0        0             1      No  \n",
       "110525         0           0        0             1      No  \n",
       "110526         0           0        0             1      No  "
      ]
     },
     "execution_count": 4,
     "metadata": {},
     "output_type": "execute_result"
    }
   ],
   "source": [
    "#last 5 rows in the dataframe\n",
    "df.tail()"
   ]
  },
  {
   "cell_type": "code",
   "execution_count": 5,
   "metadata": {
    "execution": {
     "iopub.execute_input": "2022-09-27T11:21:19.013730Z",
     "iopub.status.busy": "2022-09-27T11:21:19.013269Z",
     "iopub.status.idle": "2022-09-27T11:21:19.076385Z",
     "shell.execute_reply": "2022-09-27T11:21:19.074862Z",
     "shell.execute_reply.started": "2022-09-27T11:21:19.013689Z"
    }
   },
   "outputs": [
    {
     "name": "stdout",
     "output_type": "stream",
     "text": [
      "<class 'pandas.core.frame.DataFrame'>\n",
      "RangeIndex: 110527 entries, 0 to 110526\n",
      "Data columns (total 14 columns):\n",
      " #   Column          Non-Null Count   Dtype  \n",
      "---  ------          --------------   -----  \n",
      " 0   PatientId       110527 non-null  float64\n",
      " 1   AppointmentID   110527 non-null  int64  \n",
      " 2   Gender          110527 non-null  object \n",
      " 3   ScheduledDay    110527 non-null  object \n",
      " 4   AppointmentDay  110527 non-null  object \n",
      " 5   Age             110527 non-null  int64  \n",
      " 6   Neighbourhood   110527 non-null  object \n",
      " 7   Scholarship     110527 non-null  int64  \n",
      " 8   Hipertension    110527 non-null  int64  \n",
      " 9   Diabetes        110527 non-null  int64  \n",
      " 10  Alcoholism      110527 non-null  int64  \n",
      " 11  Handcap         110527 non-null  int64  \n",
      " 12  SMS_received    110527 non-null  int64  \n",
      " 13  No-show         110527 non-null  object \n",
      "dtypes: float64(1), int64(8), object(5)\n",
      "memory usage: 11.8+ MB\n"
     ]
    }
   ],
   "source": [
    "# information on the columns and rows\n",
    "df.info()"
   ]
  },
  {
   "cell_type": "code",
   "execution_count": 6,
   "metadata": {
    "execution": {
     "iopub.execute_input": "2022-09-27T11:21:19.078127Z",
     "iopub.status.busy": "2022-09-27T11:21:19.077734Z",
     "iopub.status.idle": "2022-09-27T11:21:19.087727Z",
     "shell.execute_reply": "2022-09-27T11:21:19.086000Z",
     "shell.execute_reply.started": "2022-09-27T11:21:19.078088Z"
    }
   },
   "outputs": [
    {
     "data": {
      "text/plain": [
       "(110527, 14)"
      ]
     },
     "execution_count": 6,
     "metadata": {},
     "output_type": "execute_result"
    }
   ],
   "source": [
    "df.shape"
   ]
  },
  {
   "cell_type": "markdown",
   "metadata": {},
   "source": [
    "The dataset has 14 columns and 110527 rows.\n",
    "\n",
    "The data type of the `Scholarship`, `Hipertension`, `Diabetes`,`Alcoholism` and `SMS_received` columns in int64 because they contain numerical values but these values are actually categorical.\n",
    "\n",
    "The data type of the `ScheduledDay` and `AppointmentDay` columns is int but they are timestamp columns.\n"
   ]
  },
  {
   "cell_type": "code",
   "execution_count": 7,
   "metadata": {
    "execution": {
     "iopub.execute_input": "2022-09-27T11:21:19.090532Z",
     "iopub.status.busy": "2022-09-27T11:21:19.089713Z",
     "iopub.status.idle": "2022-09-27T11:21:19.131638Z",
     "shell.execute_reply": "2022-09-27T11:21:19.130359Z",
     "shell.execute_reply.started": "2022-09-27T11:21:19.090480Z"
    }
   },
   "outputs": [
    {
     "data": {
      "text/plain": [
       "PatientId         0\n",
       "AppointmentID     0\n",
       "Gender            0\n",
       "ScheduledDay      0\n",
       "AppointmentDay    0\n",
       "Age               0\n",
       "Neighbourhood     0\n",
       "Scholarship       0\n",
       "Hipertension      0\n",
       "Diabetes          0\n",
       "Alcoholism        0\n",
       "Handcap           0\n",
       "SMS_received      0\n",
       "No-show           0\n",
       "dtype: int64"
      ]
     },
     "execution_count": 7,
     "metadata": {},
     "output_type": "execute_result"
    }
   ],
   "source": [
    "#checking for nulls\n",
    "df.isnull().sum()"
   ]
  },
  {
   "cell_type": "markdown",
   "metadata": {},
   "source": [
    "There are no nulls in the dataframe."
   ]
  },
  {
   "cell_type": "code",
   "execution_count": 8,
   "metadata": {
    "execution": {
     "iopub.execute_input": "2022-09-27T11:21:19.134101Z",
     "iopub.status.busy": "2022-09-27T11:21:19.133307Z",
     "iopub.status.idle": "2022-09-27T11:21:19.258656Z",
     "shell.execute_reply": "2022-09-27T11:21:19.257459Z",
     "shell.execute_reply.started": "2022-09-27T11:21:19.134030Z"
    }
   },
   "outputs": [
    {
     "data": {
      "text/plain": [
       "0"
      ]
     },
     "execution_count": 8,
     "metadata": {},
     "output_type": "execute_result"
    }
   ],
   "source": [
    "# checking for duplicates\n",
    "df.duplicated().sum()"
   ]
  },
  {
   "cell_type": "markdown",
   "metadata": {},
   "source": [
    "There are no duplicates in the dataframe"
   ]
  },
  {
   "cell_type": "code",
   "execution_count": 9,
   "metadata": {
    "execution": {
     "iopub.execute_input": "2022-09-27T11:21:19.260637Z",
     "iopub.status.busy": "2022-09-27T11:21:19.260054Z",
     "iopub.status.idle": "2022-09-27T11:21:19.270982Z",
     "shell.execute_reply": "2022-09-27T11:21:19.269497Z",
     "shell.execute_reply.started": "2022-09-27T11:21:19.260600Z"
    },
    "scrolled": true
   },
   "outputs": [
    {
     "data": {
      "text/plain": [
       "0    75045\n",
       "1    35482\n",
       "Name: SMS_received, dtype: int64"
      ]
     },
     "execution_count": 9,
     "metadata": {},
     "output_type": "execute_result"
    }
   ],
   "source": [
    "# value counts of the sms received column\n",
    "df['SMS_received'].value_counts()"
   ]
  },
  {
   "cell_type": "markdown",
   "metadata": {},
   "source": [
    "0 stands for no and 1 stands for yes"
   ]
  },
  {
   "cell_type": "code",
   "execution_count": 10,
   "metadata": {
    "execution": {
     "iopub.execute_input": "2022-09-27T11:21:19.277273Z",
     "iopub.status.busy": "2022-09-27T11:21:19.276718Z",
     "iopub.status.idle": "2022-09-27T11:21:19.294365Z",
     "shell.execute_reply": "2022-09-27T11:21:19.292651Z",
     "shell.execute_reply.started": "2022-09-27T11:21:19.277225Z"
    }
   },
   "outputs": [
    {
     "data": {
      "text/plain": [
       "0    99666\n",
       "1    10861\n",
       "Name: Scholarship, dtype: int64"
      ]
     },
     "execution_count": 10,
     "metadata": {},
     "output_type": "execute_result"
    }
   ],
   "source": [
    "# value counts of the scholarship column\n",
    "df['Scholarship'].value_counts()"
   ]
  },
  {
   "cell_type": "markdown",
   "metadata": {},
   "source": [
    "0 stands for no scholarship and 1 stands for scholarship"
   ]
  },
  {
   "cell_type": "code",
   "execution_count": 11,
   "metadata": {
    "execution": {
     "iopub.execute_input": "2022-09-27T11:21:19.297300Z",
     "iopub.status.busy": "2022-09-27T11:21:19.296792Z",
     "iopub.status.idle": "2022-09-27T11:21:19.308874Z",
     "shell.execute_reply": "2022-09-27T11:21:19.307802Z",
     "shell.execute_reply.started": "2022-09-27T11:21:19.297249Z"
    },
    "scrolled": true
   },
   "outputs": [
    {
     "data": {
      "text/plain": [
       "0    88726\n",
       "1    21801\n",
       "Name: Hipertension, dtype: int64"
      ]
     },
     "execution_count": 11,
     "metadata": {},
     "output_type": "execute_result"
    }
   ],
   "source": [
    "# value counts of the Hipertension column\n",
    "df['Hipertension'].value_counts()"
   ]
  },
  {
   "cell_type": "markdown",
   "metadata": {},
   "source": [
    "0 means the patient is not hypertensive and 1 means the patient is hypertensive"
   ]
  },
  {
   "cell_type": "code",
   "execution_count": 12,
   "metadata": {
    "execution": {
     "iopub.execute_input": "2022-09-27T11:21:19.311352Z",
     "iopub.status.busy": "2022-09-27T11:21:19.310582Z",
     "iopub.status.idle": "2022-09-27T11:21:19.326952Z",
     "shell.execute_reply": "2022-09-27T11:21:19.325639Z",
     "shell.execute_reply.started": "2022-09-27T11:21:19.311302Z"
    }
   },
   "outputs": [
    {
     "data": {
      "text/plain": [
       "0    102584\n",
       "1      7943\n",
       "Name: Diabetes, dtype: int64"
      ]
     },
     "execution_count": 12,
     "metadata": {},
     "output_type": "execute_result"
    }
   ],
   "source": [
    "# value counts of the Diabetes column\n",
    "df['Diabetes'].value_counts()"
   ]
  },
  {
   "cell_type": "markdown",
   "metadata": {},
   "source": [
    "0 means the patient does not have diabetes and 1 means they have diabetes"
   ]
  },
  {
   "cell_type": "code",
   "execution_count": 13,
   "metadata": {
    "execution": {
     "iopub.execute_input": "2022-09-27T11:21:19.329816Z",
     "iopub.status.busy": "2022-09-27T11:21:19.328847Z",
     "iopub.status.idle": "2022-09-27T11:21:19.342935Z",
     "shell.execute_reply": "2022-09-27T11:21:19.341133Z",
     "shell.execute_reply.started": "2022-09-27T11:21:19.329764Z"
    }
   },
   "outputs": [
    {
     "data": {
      "text/plain": [
       "0    107167\n",
       "1      3360\n",
       "Name: Alcoholism, dtype: int64"
      ]
     },
     "execution_count": 13,
     "metadata": {},
     "output_type": "execute_result"
    }
   ],
   "source": [
    "# value counts of the alcoholism column\n",
    "df['Alcoholism'].value_counts()"
   ]
  },
  {
   "cell_type": "markdown",
   "metadata": {},
   "source": [
    "0 means the patient is not involved in alcoholism and 1 means they are involved in alcoholism."
   ]
  },
  {
   "cell_type": "code",
   "execution_count": 14,
   "metadata": {
    "execution": {
     "iopub.execute_input": "2022-09-27T11:21:19.345839Z",
     "iopub.status.busy": "2022-09-27T11:21:19.345049Z",
     "iopub.status.idle": "2022-09-27T11:21:19.356655Z",
     "shell.execute_reply": "2022-09-27T11:21:19.355473Z",
     "shell.execute_reply.started": "2022-09-27T11:21:19.345738Z"
    }
   },
   "outputs": [
    {
     "data": {
      "text/plain": [
       "0    108286\n",
       "1      2042\n",
       "2       183\n",
       "3        13\n",
       "4         3\n",
       "Name: Handcap, dtype: int64"
      ]
     },
     "execution_count": 14,
     "metadata": {},
     "output_type": "execute_result"
    }
   ],
   "source": [
    "df['Handcap'].value_counts()"
   ]
  },
  {
   "cell_type": "markdown",
   "metadata": {},
   "source": [
    "0 means no handicap and for the rest, the number signifies the number of handicaps."
   ]
  },
  {
   "cell_type": "code",
   "execution_count": 15,
   "metadata": {
    "execution": {
     "iopub.execute_input": "2022-09-27T11:21:19.359294Z",
     "iopub.status.busy": "2022-09-27T11:21:19.358538Z",
     "iopub.status.idle": "2022-09-27T11:21:19.380376Z",
     "shell.execute_reply": "2022-09-27T11:21:19.379345Z",
     "shell.execute_reply.started": "2022-09-27T11:21:19.359236Z"
    }
   },
   "outputs": [
    {
     "data": {
      "text/plain": [
       "F    71840\n",
       "M    38687\n",
       "Name: Gender, dtype: int64"
      ]
     },
     "execution_count": 15,
     "metadata": {},
     "output_type": "execute_result"
    }
   ],
   "source": [
    "# value counts of gender\n",
    "df['Gender'].value_counts()"
   ]
  },
  {
   "cell_type": "markdown",
   "metadata": {},
   "source": [
    "F for female and M for male"
   ]
  },
  {
   "cell_type": "code",
   "execution_count": 16,
   "metadata": {
    "execution": {
     "iopub.execute_input": "2022-09-27T11:21:19.382898Z",
     "iopub.status.busy": "2022-09-27T11:21:19.381912Z",
     "iopub.status.idle": "2022-09-27T11:21:19.398551Z",
     "shell.execute_reply": "2022-09-27T11:21:19.395578Z",
     "shell.execute_reply.started": "2022-09-27T11:21:19.382857Z"
    }
   },
   "outputs": [
    {
     "data": {
      "text/plain": [
       "No     88208\n",
       "Yes    22319\n",
       "Name: No-show, dtype: int64"
      ]
     },
     "execution_count": 16,
     "metadata": {},
     "output_type": "execute_result"
    }
   ],
   "source": [
    "# value counts of the no-show column\n",
    "df['No-show'].value_counts()"
   ]
  },
  {
   "cell_type": "markdown",
   "metadata": {},
   "source": [
    "No means the patient showed and yes means they did not"
   ]
  },
  {
   "cell_type": "code",
   "execution_count": 17,
   "metadata": {
    "execution": {
     "iopub.execute_input": "2022-09-27T11:21:19.401497Z",
     "iopub.status.busy": "2022-09-27T11:21:19.401050Z",
     "iopub.status.idle": "2022-09-27T11:21:19.483458Z",
     "shell.execute_reply": "2022-09-27T11:21:19.482179Z",
     "shell.execute_reply.started": "2022-09-27T11:21:19.401460Z"
    }
   },
   "outputs": [
    {
     "data": {
      "text/html": [
       "<div>\n",
       "<style scoped>\n",
       "    .dataframe tbody tr th:only-of-type {\n",
       "        vertical-align: middle;\n",
       "    }\n",
       "\n",
       "    .dataframe tbody tr th {\n",
       "        vertical-align: top;\n",
       "    }\n",
       "\n",
       "    .dataframe thead th {\n",
       "        text-align: right;\n",
       "    }\n",
       "</style>\n",
       "<table border=\"1\" class=\"dataframe\">\n",
       "  <thead>\n",
       "    <tr style=\"text-align: right;\">\n",
       "      <th></th>\n",
       "      <th>PatientId</th>\n",
       "      <th>AppointmentID</th>\n",
       "      <th>Age</th>\n",
       "      <th>Scholarship</th>\n",
       "      <th>Hipertension</th>\n",
       "      <th>Diabetes</th>\n",
       "      <th>Alcoholism</th>\n",
       "      <th>Handcap</th>\n",
       "      <th>SMS_received</th>\n",
       "    </tr>\n",
       "  </thead>\n",
       "  <tbody>\n",
       "    <tr>\n",
       "      <th>count</th>\n",
       "      <td>1.105270e+05</td>\n",
       "      <td>1.105270e+05</td>\n",
       "      <td>110527.000000</td>\n",
       "      <td>110527.000000</td>\n",
       "      <td>110527.000000</td>\n",
       "      <td>110527.000000</td>\n",
       "      <td>110527.000000</td>\n",
       "      <td>110527.000000</td>\n",
       "      <td>110527.000000</td>\n",
       "    </tr>\n",
       "    <tr>\n",
       "      <th>mean</th>\n",
       "      <td>1.474963e+14</td>\n",
       "      <td>5.675305e+06</td>\n",
       "      <td>37.088874</td>\n",
       "      <td>0.098266</td>\n",
       "      <td>0.197246</td>\n",
       "      <td>0.071865</td>\n",
       "      <td>0.030400</td>\n",
       "      <td>0.022248</td>\n",
       "      <td>0.321026</td>\n",
       "    </tr>\n",
       "    <tr>\n",
       "      <th>std</th>\n",
       "      <td>2.560949e+14</td>\n",
       "      <td>7.129575e+04</td>\n",
       "      <td>23.110205</td>\n",
       "      <td>0.297675</td>\n",
       "      <td>0.397921</td>\n",
       "      <td>0.258265</td>\n",
       "      <td>0.171686</td>\n",
       "      <td>0.161543</td>\n",
       "      <td>0.466873</td>\n",
       "    </tr>\n",
       "    <tr>\n",
       "      <th>min</th>\n",
       "      <td>3.921784e+04</td>\n",
       "      <td>5.030230e+06</td>\n",
       "      <td>-1.000000</td>\n",
       "      <td>0.000000</td>\n",
       "      <td>0.000000</td>\n",
       "      <td>0.000000</td>\n",
       "      <td>0.000000</td>\n",
       "      <td>0.000000</td>\n",
       "      <td>0.000000</td>\n",
       "    </tr>\n",
       "    <tr>\n",
       "      <th>25%</th>\n",
       "      <td>4.172614e+12</td>\n",
       "      <td>5.640286e+06</td>\n",
       "      <td>18.000000</td>\n",
       "      <td>0.000000</td>\n",
       "      <td>0.000000</td>\n",
       "      <td>0.000000</td>\n",
       "      <td>0.000000</td>\n",
       "      <td>0.000000</td>\n",
       "      <td>0.000000</td>\n",
       "    </tr>\n",
       "    <tr>\n",
       "      <th>50%</th>\n",
       "      <td>3.173184e+13</td>\n",
       "      <td>5.680573e+06</td>\n",
       "      <td>37.000000</td>\n",
       "      <td>0.000000</td>\n",
       "      <td>0.000000</td>\n",
       "      <td>0.000000</td>\n",
       "      <td>0.000000</td>\n",
       "      <td>0.000000</td>\n",
       "      <td>0.000000</td>\n",
       "    </tr>\n",
       "    <tr>\n",
       "      <th>75%</th>\n",
       "      <td>9.439172e+13</td>\n",
       "      <td>5.725524e+06</td>\n",
       "      <td>55.000000</td>\n",
       "      <td>0.000000</td>\n",
       "      <td>0.000000</td>\n",
       "      <td>0.000000</td>\n",
       "      <td>0.000000</td>\n",
       "      <td>0.000000</td>\n",
       "      <td>1.000000</td>\n",
       "    </tr>\n",
       "    <tr>\n",
       "      <th>max</th>\n",
       "      <td>9.999816e+14</td>\n",
       "      <td>5.790484e+06</td>\n",
       "      <td>115.000000</td>\n",
       "      <td>1.000000</td>\n",
       "      <td>1.000000</td>\n",
       "      <td>1.000000</td>\n",
       "      <td>1.000000</td>\n",
       "      <td>4.000000</td>\n",
       "      <td>1.000000</td>\n",
       "    </tr>\n",
       "  </tbody>\n",
       "</table>\n",
       "</div>"
      ],
      "text/plain": [
       "          PatientId  AppointmentID            Age    Scholarship  \\\n",
       "count  1.105270e+05   1.105270e+05  110527.000000  110527.000000   \n",
       "mean   1.474963e+14   5.675305e+06      37.088874       0.098266   \n",
       "std    2.560949e+14   7.129575e+04      23.110205       0.297675   \n",
       "min    3.921784e+04   5.030230e+06      -1.000000       0.000000   \n",
       "25%    4.172614e+12   5.640286e+06      18.000000       0.000000   \n",
       "50%    3.173184e+13   5.680573e+06      37.000000       0.000000   \n",
       "75%    9.439172e+13   5.725524e+06      55.000000       0.000000   \n",
       "max    9.999816e+14   5.790484e+06     115.000000       1.000000   \n",
       "\n",
       "        Hipertension       Diabetes     Alcoholism        Handcap  \\\n",
       "count  110527.000000  110527.000000  110527.000000  110527.000000   \n",
       "mean        0.197246       0.071865       0.030400       0.022248   \n",
       "std         0.397921       0.258265       0.171686       0.161543   \n",
       "min         0.000000       0.000000       0.000000       0.000000   \n",
       "25%         0.000000       0.000000       0.000000       0.000000   \n",
       "50%         0.000000       0.000000       0.000000       0.000000   \n",
       "75%         0.000000       0.000000       0.000000       0.000000   \n",
       "max         1.000000       1.000000       1.000000       4.000000   \n",
       "\n",
       "        SMS_received  \n",
       "count  110527.000000  \n",
       "mean        0.321026  \n",
       "std         0.466873  \n",
       "min         0.000000  \n",
       "25%         0.000000  \n",
       "50%         0.000000  \n",
       "75%         1.000000  \n",
       "max         1.000000  "
      ]
     },
     "execution_count": 17,
     "metadata": {},
     "output_type": "execute_result"
    }
   ],
   "source": [
    "# statistacal breakdown of the dataframe\n",
    "df.describe()"
   ]
  },
  {
   "cell_type": "markdown",
   "metadata": {},
   "source": [
    "The min of the `Age` column is a negative number. This is a validity error as age cannot be in negatives."
   ]
  },
  {
   "cell_type": "markdown",
   "metadata": {},
   "source": [
    "### Data quality issues\n",
    "* Negative age\n",
    "* Misspelled column labels\n",
    "* Wrong data types for some columns\n",
    "\n"
   ]
  },
  {
   "cell_type": "markdown",
   "metadata": {},
   "source": [
    "#### Copying data"
   ]
  },
  {
   "cell_type": "code",
   "execution_count": 18,
   "metadata": {
    "execution": {
     "iopub.execute_input": "2022-09-27T11:21:19.486281Z",
     "iopub.status.busy": "2022-09-27T11:21:19.485400Z",
     "iopub.status.idle": "2022-09-27T11:21:19.498825Z",
     "shell.execute_reply": "2022-09-27T11:21:19.497518Z",
     "shell.execute_reply.started": "2022-09-27T11:21:19.486232Z"
    }
   },
   "outputs": [],
   "source": [
    "df_clean = df.copy()"
   ]
  },
  {
   "cell_type": "markdown",
   "metadata": {},
   "source": [
    "I want to keep the original dataset as it is so I will be performing data cleaning on the new dataframe."
   ]
  },
  {
   "cell_type": "markdown",
   "metadata": {},
   "source": [
    "### Data cleaning"
   ]
  },
  {
   "cell_type": "markdown",
   "metadata": {},
   "source": [
    "### Issue:\n",
    "* Negative age"
   ]
  },
  {
   "cell_type": "markdown",
   "metadata": {},
   "source": [
    "#### Define:\n",
    "* drop rows with negative age"
   ]
  },
  {
   "cell_type": "markdown",
   "metadata": {},
   "source": [
    "#### Code"
   ]
  },
  {
   "cell_type": "code",
   "execution_count": 19,
   "metadata": {
    "execution": {
     "iopub.execute_input": "2022-09-27T11:21:19.501574Z",
     "iopub.status.busy": "2022-09-27T11:21:19.500565Z",
     "iopub.status.idle": "2022-09-27T11:21:19.527265Z",
     "shell.execute_reply": "2022-09-27T11:21:19.525804Z",
     "shell.execute_reply.started": "2022-09-27T11:21:19.501532Z"
    }
   },
   "outputs": [
    {
     "data": {
      "text/html": [
       "<div>\n",
       "<style scoped>\n",
       "    .dataframe tbody tr th:only-of-type {\n",
       "        vertical-align: middle;\n",
       "    }\n",
       "\n",
       "    .dataframe tbody tr th {\n",
       "        vertical-align: top;\n",
       "    }\n",
       "\n",
       "    .dataframe thead th {\n",
       "        text-align: right;\n",
       "    }\n",
       "</style>\n",
       "<table border=\"1\" class=\"dataframe\">\n",
       "  <thead>\n",
       "    <tr style=\"text-align: right;\">\n",
       "      <th></th>\n",
       "      <th>PatientId</th>\n",
       "      <th>AppointmentID</th>\n",
       "      <th>Gender</th>\n",
       "      <th>ScheduledDay</th>\n",
       "      <th>AppointmentDay</th>\n",
       "      <th>Age</th>\n",
       "      <th>Neighbourhood</th>\n",
       "      <th>Scholarship</th>\n",
       "      <th>Hipertension</th>\n",
       "      <th>Diabetes</th>\n",
       "      <th>Alcoholism</th>\n",
       "      <th>Handcap</th>\n",
       "      <th>SMS_received</th>\n",
       "      <th>No-show</th>\n",
       "    </tr>\n",
       "  </thead>\n",
       "  <tbody>\n",
       "    <tr>\n",
       "      <th>99832</th>\n",
       "      <td>4.659432e+14</td>\n",
       "      <td>5775010</td>\n",
       "      <td>F</td>\n",
       "      <td>2016-06-06T08:58:13Z</td>\n",
       "      <td>2016-06-06T00:00:00Z</td>\n",
       "      <td>-1</td>\n",
       "      <td>ROMÃO</td>\n",
       "      <td>0</td>\n",
       "      <td>0</td>\n",
       "      <td>0</td>\n",
       "      <td>0</td>\n",
       "      <td>0</td>\n",
       "      <td>0</td>\n",
       "      <td>No</td>\n",
       "    </tr>\n",
       "  </tbody>\n",
       "</table>\n",
       "</div>"
      ],
      "text/plain": [
       "          PatientId  AppointmentID Gender          ScheduledDay  \\\n",
       "99832  4.659432e+14        5775010      F  2016-06-06T08:58:13Z   \n",
       "\n",
       "             AppointmentDay  Age Neighbourhood  Scholarship  Hipertension  \\\n",
       "99832  2016-06-06T00:00:00Z   -1         ROMÃO            0             0   \n",
       "\n",
       "       Diabetes  Alcoholism  Handcap  SMS_received No-show  \n",
       "99832         0           0        0             0      No  "
      ]
     },
     "execution_count": 19,
     "metadata": {},
     "output_type": "execute_result"
    }
   ],
   "source": [
    "#checking index of row with negative age value\n",
    "df_clean.query('Age < 0')"
   ]
  },
  {
   "cell_type": "markdown",
   "metadata": {},
   "source": [
    "From the results above, I can tell that only one row has a negative `Age` value therefore I can drop this row from the dataframe."
   ]
  },
  {
   "cell_type": "code",
   "execution_count": 20,
   "metadata": {
    "execution": {
     "iopub.execute_input": "2022-09-27T11:21:19.530096Z",
     "iopub.status.busy": "2022-09-27T11:21:19.529153Z",
     "iopub.status.idle": "2022-09-27T11:21:19.560408Z",
     "shell.execute_reply": "2022-09-27T11:21:19.558924Z",
     "shell.execute_reply.started": "2022-09-27T11:21:19.530020Z"
    }
   },
   "outputs": [],
   "source": [
    "#dropping row with negative age using row index\n",
    "df_clean.drop([99832],inplace=True)"
   ]
  },
  {
   "cell_type": "markdown",
   "metadata": {},
   "source": [
    "#### Test"
   ]
  },
  {
   "cell_type": "code",
   "execution_count": 21,
   "metadata": {
    "execution": {
     "iopub.execute_input": "2022-09-27T11:21:19.562652Z",
     "iopub.status.busy": "2022-09-27T11:21:19.562135Z",
     "iopub.status.idle": "2022-09-27T11:21:19.583052Z",
     "shell.execute_reply": "2022-09-27T11:21:19.581236Z",
     "shell.execute_reply.started": "2022-09-27T11:21:19.562603Z"
    }
   },
   "outputs": [
    {
     "data": {
      "text/html": [
       "<div>\n",
       "<style scoped>\n",
       "    .dataframe tbody tr th:only-of-type {\n",
       "        vertical-align: middle;\n",
       "    }\n",
       "\n",
       "    .dataframe tbody tr th {\n",
       "        vertical-align: top;\n",
       "    }\n",
       "\n",
       "    .dataframe thead th {\n",
       "        text-align: right;\n",
       "    }\n",
       "</style>\n",
       "<table border=\"1\" class=\"dataframe\">\n",
       "  <thead>\n",
       "    <tr style=\"text-align: right;\">\n",
       "      <th></th>\n",
       "      <th>PatientId</th>\n",
       "      <th>AppointmentID</th>\n",
       "      <th>Gender</th>\n",
       "      <th>ScheduledDay</th>\n",
       "      <th>AppointmentDay</th>\n",
       "      <th>Age</th>\n",
       "      <th>Neighbourhood</th>\n",
       "      <th>Scholarship</th>\n",
       "      <th>Hipertension</th>\n",
       "      <th>Diabetes</th>\n",
       "      <th>Alcoholism</th>\n",
       "      <th>Handcap</th>\n",
       "      <th>SMS_received</th>\n",
       "      <th>No-show</th>\n",
       "    </tr>\n",
       "  </thead>\n",
       "  <tbody>\n",
       "  </tbody>\n",
       "</table>\n",
       "</div>"
      ],
      "text/plain": [
       "Empty DataFrame\n",
       "Columns: [PatientId, AppointmentID, Gender, ScheduledDay, AppointmentDay, Age, Neighbourhood, Scholarship, Hipertension, Diabetes, Alcoholism, Handcap, SMS_received, No-show]\n",
       "Index: []"
      ]
     },
     "execution_count": 21,
     "metadata": {},
     "output_type": "execute_result"
    }
   ],
   "source": [
    "#confirming removal of row with negative age\n",
    "df_clean.query('Age < 0')"
   ]
  },
  {
   "cell_type": "markdown",
   "metadata": {},
   "source": [
    "No more rows with negative ages"
   ]
  },
  {
   "cell_type": "markdown",
   "metadata": {},
   "source": [
    "### Issue:\n",
    "* Wrong datatypes"
   ]
  },
  {
   "cell_type": "markdown",
   "metadata": {},
   "source": [
    "#### Define:\n",
    "* convert wrong dtypes to correct dtypes"
   ]
  },
  {
   "cell_type": "markdown",
   "metadata": {},
   "source": [
    "#### Code"
   ]
  },
  {
   "cell_type": "code",
   "execution_count": 22,
   "metadata": {
    "execution": {
     "iopub.execute_input": "2022-09-27T11:21:19.585591Z",
     "iopub.status.busy": "2022-09-27T11:21:19.585093Z",
     "iopub.status.idle": "2022-09-27T11:21:19.677712Z",
     "shell.execute_reply": "2022-09-27T11:21:19.676489Z",
     "shell.execute_reply.started": "2022-09-27T11:21:19.585533Z"
    }
   },
   "outputs": [],
   "source": [
    "#changing the datatype of two columns\n",
    "df_clean['AppointmentDay'] = pd.to_datetime(df_clean['AppointmentDay'])\n",
    "df_clean['ScheduledDay'] = pd.to_datetime(df_clean['ScheduledDay'])"
   ]
  },
  {
   "cell_type": "code",
   "execution_count": 23,
   "metadata": {
    "execution": {
     "iopub.execute_input": "2022-09-27T11:21:19.681039Z",
     "iopub.status.busy": "2022-09-27T11:21:19.680241Z",
     "iopub.status.idle": "2022-09-27T11:21:19.708285Z",
     "shell.execute_reply": "2022-09-27T11:21:19.706623Z",
     "shell.execute_reply.started": "2022-09-27T11:21:19.680999Z"
    }
   },
   "outputs": [],
   "source": [
    "# changing int columns to category\n",
    "columns = ['Scholarship','Hipertension','Diabetes','Alcoholism','Handcap','SMS_received']\n",
    "for column in columns:\n",
    "    df_clean[column] = df_clean[column].astype('category')"
   ]
  },
  {
   "cell_type": "code",
   "execution_count": 24,
   "metadata": {
    "execution": {
     "iopub.execute_input": "2022-09-27T11:21:19.710257Z",
     "iopub.status.busy": "2022-09-27T11:21:19.709858Z",
     "iopub.status.idle": "2022-09-27T11:21:19.892097Z",
     "shell.execute_reply": "2022-09-27T11:21:19.889420Z",
     "shell.execute_reply.started": "2022-09-27T11:21:19.710212Z"
    }
   },
   "outputs": [],
   "source": [
    "#changing dtype of ID columns to string\n",
    "df_clean['PatientId'] = df_clean['PatientId'].astype(str)\n",
    "df_clean['AppointmentID'] = df_clean['AppointmentID'].astype(str)"
   ]
  },
  {
   "cell_type": "markdown",
   "metadata": {},
   "source": [
    "#### Test"
   ]
  },
  {
   "cell_type": "code",
   "execution_count": 25,
   "metadata": {
    "execution": {
     "iopub.execute_input": "2022-09-27T11:21:19.895039Z",
     "iopub.status.busy": "2022-09-27T11:21:19.894249Z",
     "iopub.status.idle": "2022-09-27T11:21:19.944464Z",
     "shell.execute_reply": "2022-09-27T11:21:19.942712Z",
     "shell.execute_reply.started": "2022-09-27T11:21:19.894994Z"
    }
   },
   "outputs": [
    {
     "name": "stdout",
     "output_type": "stream",
     "text": [
      "<class 'pandas.core.frame.DataFrame'>\n",
      "Int64Index: 110526 entries, 0 to 110526\n",
      "Data columns (total 14 columns):\n",
      " #   Column          Non-Null Count   Dtype              \n",
      "---  ------          --------------   -----              \n",
      " 0   PatientId       110526 non-null  object             \n",
      " 1   AppointmentID   110526 non-null  object             \n",
      " 2   Gender          110526 non-null  object             \n",
      " 3   ScheduledDay    110526 non-null  datetime64[ns, UTC]\n",
      " 4   AppointmentDay  110526 non-null  datetime64[ns, UTC]\n",
      " 5   Age             110526 non-null  int64              \n",
      " 6   Neighbourhood   110526 non-null  object             \n",
      " 7   Scholarship     110526 non-null  category           \n",
      " 8   Hipertension    110526 non-null  category           \n",
      " 9   Diabetes        110526 non-null  category           \n",
      " 10  Alcoholism      110526 non-null  category           \n",
      " 11  Handcap         110526 non-null  category           \n",
      " 12  SMS_received    110526 non-null  category           \n",
      " 13  No-show         110526 non-null  object             \n",
      "dtypes: category(6), datetime64[ns, UTC](2), int64(1), object(5)\n",
      "memory usage: 8.2+ MB\n"
     ]
    }
   ],
   "source": [
    "df_clean.info()"
   ]
  },
  {
   "cell_type": "markdown",
   "metadata": {},
   "source": [
    "### Issue:\n",
    "* Mispelled column names"
   ]
  },
  {
   "cell_type": "markdown",
   "metadata": {},
   "source": [
    "#### Define:\n",
    "* rename columns with mispelled labels"
   ]
  },
  {
   "cell_type": "markdown",
   "metadata": {},
   "source": [
    "#### Code"
   ]
  },
  {
   "cell_type": "code",
   "execution_count": 26,
   "metadata": {
    "execution": {
     "iopub.execute_input": "2022-09-27T11:21:19.946362Z",
     "iopub.status.busy": "2022-09-27T11:21:19.945914Z",
     "iopub.status.idle": "2022-09-27T11:21:19.954603Z",
     "shell.execute_reply": "2022-09-27T11:21:19.952578Z",
     "shell.execute_reply.started": "2022-09-27T11:21:19.946323Z"
    }
   },
   "outputs": [],
   "source": [
    "#renaming columns\n",
    "df_clean.rename(columns = {'PatientId':'PatientID',\n",
    "                           'Hipertension':'Hypertension',\n",
    "                           'Handcap':'Handicapped',\n",
    "                           'No-show':'NoShow',\n",
    "                           'SMS_received':'SMSReceived'},\n",
    "                           inplace = True)"
   ]
  },
  {
   "cell_type": "markdown",
   "metadata": {},
   "source": [
    "#### Test"
   ]
  },
  {
   "cell_type": "code",
   "execution_count": 27,
   "metadata": {
    "execution": {
     "iopub.execute_input": "2022-09-27T11:21:19.957260Z",
     "iopub.status.busy": "2022-09-27T11:21:19.956812Z",
     "iopub.status.idle": "2022-09-27T11:21:19.977173Z",
     "shell.execute_reply": "2022-09-27T11:21:19.975860Z",
     "shell.execute_reply.started": "2022-09-27T11:21:19.957221Z"
    }
   },
   "outputs": [
    {
     "data": {
      "text/plain": [
       "Index(['PatientID', 'AppointmentID', 'Gender', 'ScheduledDay',\n",
       "       'AppointmentDay', 'Age', 'Neighbourhood', 'Scholarship', 'Hypertension',\n",
       "       'Diabetes', 'Alcoholism', 'Handicapped', 'SMSReceived', 'NoShow'],\n",
       "      dtype='object')"
      ]
     },
     "execution_count": 27,
     "metadata": {},
     "output_type": "execute_result"
    }
   ],
   "source": [
    "#verifying the change\n",
    "df_clean.columns"
   ]
  },
  {
   "cell_type": "markdown",
   "metadata": {},
   "source": [
    "I changed the names of columns that were initially spelt wrongly or had symbols that could be removed."
   ]
  },
  {
   "cell_type": "code",
   "execution_count": 28,
   "metadata": {
    "execution": {
     "iopub.execute_input": "2022-09-27T11:21:19.988206Z",
     "iopub.status.busy": "2022-09-27T11:21:19.987637Z",
     "iopub.status.idle": "2022-09-27T11:21:20.015708Z",
     "shell.execute_reply": "2022-09-27T11:21:20.014018Z",
     "shell.execute_reply.started": "2022-09-27T11:21:19.988164Z"
    }
   },
   "outputs": [
    {
     "data": {
      "text/html": [
       "<div>\n",
       "<style scoped>\n",
       "    .dataframe tbody tr th:only-of-type {\n",
       "        vertical-align: middle;\n",
       "    }\n",
       "\n",
       "    .dataframe tbody tr th {\n",
       "        vertical-align: top;\n",
       "    }\n",
       "\n",
       "    .dataframe thead th {\n",
       "        text-align: right;\n",
       "    }\n",
       "</style>\n",
       "<table border=\"1\" class=\"dataframe\">\n",
       "  <thead>\n",
       "    <tr style=\"text-align: right;\">\n",
       "      <th></th>\n",
       "      <th>PatientID</th>\n",
       "      <th>AppointmentID</th>\n",
       "      <th>Gender</th>\n",
       "      <th>ScheduledDay</th>\n",
       "      <th>AppointmentDay</th>\n",
       "      <th>Age</th>\n",
       "      <th>Neighbourhood</th>\n",
       "      <th>Scholarship</th>\n",
       "      <th>Hypertension</th>\n",
       "      <th>Diabetes</th>\n",
       "      <th>Alcoholism</th>\n",
       "      <th>Handicapped</th>\n",
       "      <th>SMSReceived</th>\n",
       "      <th>NoShow</th>\n",
       "    </tr>\n",
       "  </thead>\n",
       "  <tbody>\n",
       "    <tr>\n",
       "      <th>0</th>\n",
       "      <td>29872499824296.0</td>\n",
       "      <td>5642903</td>\n",
       "      <td>F</td>\n",
       "      <td>2016-04-29 18:38:08+00:00</td>\n",
       "      <td>2016-04-29 00:00:00+00:00</td>\n",
       "      <td>62</td>\n",
       "      <td>JARDIM DA PENHA</td>\n",
       "      <td>0</td>\n",
       "      <td>1</td>\n",
       "      <td>0</td>\n",
       "      <td>0</td>\n",
       "      <td>0</td>\n",
       "      <td>0</td>\n",
       "      <td>No</td>\n",
       "    </tr>\n",
       "    <tr>\n",
       "      <th>1</th>\n",
       "      <td>558997776694438.0</td>\n",
       "      <td>5642503</td>\n",
       "      <td>M</td>\n",
       "      <td>2016-04-29 16:08:27+00:00</td>\n",
       "      <td>2016-04-29 00:00:00+00:00</td>\n",
       "      <td>56</td>\n",
       "      <td>JARDIM DA PENHA</td>\n",
       "      <td>0</td>\n",
       "      <td>0</td>\n",
       "      <td>0</td>\n",
       "      <td>0</td>\n",
       "      <td>0</td>\n",
       "      <td>0</td>\n",
       "      <td>No</td>\n",
       "    </tr>\n",
       "    <tr>\n",
       "      <th>2</th>\n",
       "      <td>4262962299951.0</td>\n",
       "      <td>5642549</td>\n",
       "      <td>F</td>\n",
       "      <td>2016-04-29 16:19:04+00:00</td>\n",
       "      <td>2016-04-29 00:00:00+00:00</td>\n",
       "      <td>62</td>\n",
       "      <td>MATA DA PRAIA</td>\n",
       "      <td>0</td>\n",
       "      <td>0</td>\n",
       "      <td>0</td>\n",
       "      <td>0</td>\n",
       "      <td>0</td>\n",
       "      <td>0</td>\n",
       "      <td>No</td>\n",
       "    </tr>\n",
       "    <tr>\n",
       "      <th>3</th>\n",
       "      <td>867951213174.0</td>\n",
       "      <td>5642828</td>\n",
       "      <td>F</td>\n",
       "      <td>2016-04-29 17:29:31+00:00</td>\n",
       "      <td>2016-04-29 00:00:00+00:00</td>\n",
       "      <td>8</td>\n",
       "      <td>PONTAL DE CAMBURI</td>\n",
       "      <td>0</td>\n",
       "      <td>0</td>\n",
       "      <td>0</td>\n",
       "      <td>0</td>\n",
       "      <td>0</td>\n",
       "      <td>0</td>\n",
       "      <td>No</td>\n",
       "    </tr>\n",
       "    <tr>\n",
       "      <th>4</th>\n",
       "      <td>8841186448183.0</td>\n",
       "      <td>5642494</td>\n",
       "      <td>F</td>\n",
       "      <td>2016-04-29 16:07:23+00:00</td>\n",
       "      <td>2016-04-29 00:00:00+00:00</td>\n",
       "      <td>56</td>\n",
       "      <td>JARDIM DA PENHA</td>\n",
       "      <td>0</td>\n",
       "      <td>1</td>\n",
       "      <td>1</td>\n",
       "      <td>0</td>\n",
       "      <td>0</td>\n",
       "      <td>0</td>\n",
       "      <td>No</td>\n",
       "    </tr>\n",
       "  </tbody>\n",
       "</table>\n",
       "</div>"
      ],
      "text/plain": [
       "           PatientID AppointmentID Gender              ScheduledDay  \\\n",
       "0   29872499824296.0       5642903      F 2016-04-29 18:38:08+00:00   \n",
       "1  558997776694438.0       5642503      M 2016-04-29 16:08:27+00:00   \n",
       "2    4262962299951.0       5642549      F 2016-04-29 16:19:04+00:00   \n",
       "3     867951213174.0       5642828      F 2016-04-29 17:29:31+00:00   \n",
       "4    8841186448183.0       5642494      F 2016-04-29 16:07:23+00:00   \n",
       "\n",
       "             AppointmentDay  Age      Neighbourhood Scholarship Hypertension  \\\n",
       "0 2016-04-29 00:00:00+00:00   62    JARDIM DA PENHA           0            1   \n",
       "1 2016-04-29 00:00:00+00:00   56    JARDIM DA PENHA           0            0   \n",
       "2 2016-04-29 00:00:00+00:00   62      MATA DA PRAIA           0            0   \n",
       "3 2016-04-29 00:00:00+00:00    8  PONTAL DE CAMBURI           0            0   \n",
       "4 2016-04-29 00:00:00+00:00   56    JARDIM DA PENHA           0            1   \n",
       "\n",
       "  Diabetes Alcoholism Handicapped SMSReceived NoShow  \n",
       "0        0          0           0           0     No  \n",
       "1        0          0           0           0     No  \n",
       "2        0          0           0           0     No  \n",
       "3        0          0           0           0     No  \n",
       "4        1          0           0           0     No  "
      ]
     },
     "execution_count": 28,
     "metadata": {},
     "output_type": "execute_result"
    }
   ],
   "source": [
    "# displaying first five rows\n",
    "df_clean.head()"
   ]
  },
  {
   "cell_type": "markdown",
   "metadata": {},
   "source": [
    "<a id='eda'></a>\n",
    "## Exploratory Data Analysis\n",
    "\n",
    "\n",
    "\n",
    "### Gender"
   ]
  },
  {
   "cell_type": "code",
   "execution_count": 29,
   "metadata": {
    "execution": {
     "iopub.execute_input": "2022-09-27T11:21:20.017806Z",
     "iopub.status.busy": "2022-09-27T11:21:20.017419Z",
     "iopub.status.idle": "2022-09-27T11:21:20.034165Z",
     "shell.execute_reply": "2022-09-27T11:21:20.032564Z",
     "shell.execute_reply.started": "2022-09-27T11:21:20.017775Z"
    },
    "scrolled": true
   },
   "outputs": [
    {
     "data": {
      "text/plain": [
       "No     88207\n",
       "Yes    22319\n",
       "Name: NoShow, dtype: int64"
      ]
     },
     "execution_count": 29,
     "metadata": {},
     "output_type": "execute_result"
    }
   ],
   "source": [
    "# distribution of patients who showed and those who didn't\n",
    "df_clean['NoShow'].value_counts()"
   ]
  },
  {
   "cell_type": "markdown",
   "metadata": {},
   "source": [
    "88207 patients showed up for their appointment and 22319 patients did not show up"
   ]
  },
  {
   "cell_type": "code",
   "execution_count": 30,
   "metadata": {
    "execution": {
     "iopub.execute_input": "2022-09-27T11:21:20.036383Z",
     "iopub.status.busy": "2022-09-27T11:21:20.035906Z",
     "iopub.status.idle": "2022-09-27T11:21:20.299859Z",
     "shell.execute_reply": "2022-09-27T11:21:20.298548Z",
     "shell.execute_reply.started": "2022-09-27T11:21:20.036342Z"
    }
   },
   "outputs": [
    {
     "data": {
      "image/png": "[encoded data removed]",
      "text/plain": [
       "<Figure size 432x288 with 1 Axes>"
      ]
     },
     "metadata": {
      "needs_background": "light"
     },
     "output_type": "display_data"
    }
   ],
   "source": [
    "#plotting distribution of show and no show \n",
    "ax = df_clean['NoShow'].value_counts().plot(\n",
    "        kind='bar',\n",
    "        title = 'No. of patients by NoShow',\n",
    "        rot=0)\n",
    "ax.set_xlabel('NoShow')\n",
    "ax.set_ylabel('No. of patients');"
   ]
  },
  {
   "cell_type": "markdown",
   "metadata": {},
   "source": [
    "The difference between the number of patients who showed up and those who did not is visualized above"
   ]
  },
  {
   "cell_type": "code",
   "execution_count": 31,
   "metadata": {
    "execution": {
     "iopub.execute_input": "2022-09-27T11:21:20.301833Z",
     "iopub.status.busy": "2022-09-27T11:21:20.301484Z",
     "iopub.status.idle": "2022-09-27T11:21:20.320261Z",
     "shell.execute_reply": "2022-09-27T11:21:20.318658Z",
     "shell.execute_reply.started": "2022-09-27T11:21:20.301801Z"
    }
   },
   "outputs": [
    {
     "data": {
      "text/plain": [
       "F    71839\n",
       "M    38687\n",
       "Name: Gender, dtype: int64"
      ]
     },
     "execution_count": 31,
     "metadata": {},
     "output_type": "execute_result"
    }
   ],
   "source": [
    "#checking distribution of gender in the patients\n",
    "df_clean['Gender'].value_counts()"
   ]
  },
  {
   "cell_type": "code",
   "execution_count": 32,
   "metadata": {
    "execution": {
     "iopub.execute_input": "2022-09-27T11:21:20.324400Z",
     "iopub.status.busy": "2022-09-27T11:21:20.323980Z",
     "iopub.status.idle": "2022-09-27T11:21:20.564661Z",
     "shell.execute_reply": "2022-09-27T11:21:20.563390Z",
     "shell.execute_reply.started": "2022-09-27T11:21:20.324364Z"
    }
   },
   "outputs": [
    {
     "data": {
      "image/png": "[encoded data removed]",
      "text/plain": [
       "<Figure size 432x288 with 1 Axes>"
      ]
     },
     "metadata": {
      "needs_background": "light"
     },
     "output_type": "display_data"
    }
   ],
   "source": [
    "#plotting distribution of Gender on a histogram\n",
    "ax = df_clean['Gender'].value_counts().plot(\n",
    "        kind='bar',\n",
    "        title = 'No. of patients by Gender',\n",
    "        rot=0)\n",
    "ax.set_xlabel('Gender')\n",
    "ax.set_ylabel('No. of patients');"
   ]
  },
  {
   "cell_type": "markdown",
   "metadata": {},
   "source": [
    "From the value counts and graph above, we can tell that the patients are made up of more females than males."
   ]
  },
  {
   "cell_type": "code",
   "execution_count": 33,
   "metadata": {
    "execution": {
     "iopub.execute_input": "2022-09-27T11:21:20.566650Z",
     "iopub.status.busy": "2022-09-27T11:21:20.565906Z",
     "iopub.status.idle": "2022-09-27T11:21:20.620051Z",
     "shell.execute_reply": "2022-09-27T11:21:20.618689Z",
     "shell.execute_reply.started": "2022-09-27T11:21:20.566565Z"
    }
   },
   "outputs": [
    {
     "data": {
      "text/plain": [
       "71840"
      ]
     },
     "execution_count": 33,
     "metadata": {},
     "output_type": "execute_result"
    }
   ],
   "source": [
    "# assigning number of female patients to a variable\n",
    "f_count = df.query('Gender == \"F\"').count().Gender\n",
    "f_count"
   ]
  },
  {
   "cell_type": "code",
   "execution_count": 34,
   "metadata": {
    "execution": {
     "iopub.execute_input": "2022-09-27T11:21:20.623107Z",
     "iopub.status.busy": "2022-09-27T11:21:20.622194Z",
     "iopub.status.idle": "2022-09-27T11:21:20.659410Z",
     "shell.execute_reply": "2022-09-27T11:21:20.658498Z",
     "shell.execute_reply.started": "2022-09-27T11:21:20.623038Z"
    }
   },
   "outputs": [
    {
     "data": {
      "text/plain": [
       "38687"
      ]
     },
     "execution_count": 34,
     "metadata": {},
     "output_type": "execute_result"
    }
   ],
   "source": [
    "# assigning number of male patients to a variable\n",
    "m_count = df.query('Gender == \"M\"').count().Gender\n",
    "m_count"
   ]
  },
  {
   "cell_type": "code",
   "execution_count": 35,
   "metadata": {
    "execution": {
     "iopub.execute_input": "2022-09-27T11:21:20.661132Z",
     "iopub.status.busy": "2022-09-27T11:21:20.660745Z",
     "iopub.status.idle": "2022-09-27T11:21:20.674867Z",
     "shell.execute_reply": "2022-09-27T11:21:20.673654Z",
     "shell.execute_reply.started": "2022-09-27T11:21:20.661095Z"
    }
   },
   "outputs": [
    {
     "data": {
      "text/plain": [
       "110527"
      ]
     },
     "execution_count": 35,
     "metadata": {},
     "output_type": "execute_result"
    }
   ],
   "source": [
    "#assigning the number of patients to a variable\n",
    "patients_count = df['Gender'].count()\n",
    "patients_count"
   ]
  },
  {
   "cell_type": "code",
   "execution_count": 36,
   "metadata": {
    "execution": {
     "iopub.execute_input": "2022-09-27T11:21:20.677041Z",
     "iopub.status.busy": "2022-09-27T11:21:20.676560Z",
     "iopub.status.idle": "2022-09-27T11:21:20.688097Z",
     "shell.execute_reply": "2022-09-27T11:21:20.686457Z",
     "shell.execute_reply.started": "2022-09-27T11:21:20.677005Z"
    }
   },
   "outputs": [
    {
     "data": {
      "text/plain": [
       "64.99769287142509"
      ]
     },
     "execution_count": 36,
     "metadata": {},
     "output_type": "execute_result"
    }
   ],
   "source": [
    "#calculating percentage of female patients \n",
    "f_percent = (f_count/patients_count)*100\n",
    "f_percent"
   ]
  },
  {
   "cell_type": "markdown",
   "metadata": {},
   "source": [
    "Females make up 65% of the patients"
   ]
  },
  {
   "cell_type": "code",
   "execution_count": 37,
   "metadata": {
    "execution": {
     "iopub.execute_input": "2022-09-27T11:21:20.690477Z",
     "iopub.status.busy": "2022-09-27T11:21:20.689733Z",
     "iopub.status.idle": "2022-09-27T11:21:20.703014Z",
     "shell.execute_reply": "2022-09-27T11:21:20.702150Z",
     "shell.execute_reply.started": "2022-09-27T11:21:20.690432Z"
    }
   },
   "outputs": [
    {
     "data": {
      "text/plain": [
       "35.00230712857492"
      ]
     },
     "execution_count": 37,
     "metadata": {},
     "output_type": "execute_result"
    }
   ],
   "source": [
    "#calculating percentage of male patients\n",
    "m_percent = (m_count/patients_count) * 100\n",
    "m_percent"
   ]
  },
  {
   "cell_type": "markdown",
   "metadata": {},
   "source": [
    "35% of the patients were males."
   ]
  },
  {
   "cell_type": "code",
   "execution_count": 38,
   "metadata": {
    "execution": {
     "iopub.execute_input": "2022-09-27T11:21:20.705753Z",
     "iopub.status.busy": "2022-09-27T11:21:20.704890Z",
     "iopub.status.idle": "2022-09-27T11:21:20.770621Z",
     "shell.execute_reply": "2022-09-27T11:21:20.769155Z",
     "shell.execute_reply.started": "2022-09-27T11:21:20.705713Z"
    }
   },
   "outputs": [
    {
     "data": {
      "text/html": [
       "<div>\n",
       "<style scoped>\n",
       "    .dataframe tbody tr th:only-of-type {\n",
       "        vertical-align: middle;\n",
       "    }\n",
       "\n",
       "    .dataframe tbody tr th {\n",
       "        vertical-align: top;\n",
       "    }\n",
       "\n",
       "    .dataframe thead th {\n",
       "        text-align: right;\n",
       "    }\n",
       "</style>\n",
       "<table border=\"1\" class=\"dataframe\">\n",
       "  <thead>\n",
       "    <tr style=\"text-align: right;\">\n",
       "      <th>NoShow</th>\n",
       "      <th>No</th>\n",
       "      <th>Yes</th>\n",
       "    </tr>\n",
       "    <tr>\n",
       "      <th>Gender</th>\n",
       "      <th></th>\n",
       "      <th></th>\n",
       "    </tr>\n",
       "  </thead>\n",
       "  <tbody>\n",
       "    <tr>\n",
       "      <th>F</th>\n",
       "      <td>57245</td>\n",
       "      <td>14594</td>\n",
       "    </tr>\n",
       "    <tr>\n",
       "      <th>M</th>\n",
       "      <td>30962</td>\n",
       "      <td>7725</td>\n",
       "    </tr>\n",
       "  </tbody>\n",
       "</table>\n",
       "</div>"
      ],
      "text/plain": [
       "NoShow     No    Yes\n",
       "Gender              \n",
       "F       57245  14594\n",
       "M       30962   7725"
      ]
     },
     "execution_count": 38,
     "metadata": {},
     "output_type": "execute_result"
    }
   ],
   "source": [
    "# pivot table with gender and no-show column \n",
    "df_ns = df_clean.groupby(['NoShow','Gender'],as_index=False).size()\n",
    "ns_pivot = pd.pivot_table(df_ns, values = 'size',columns=['NoShow'],index='Gender')\n",
    "ns_pivot"
   ]
  },
  {
   "cell_type": "code",
   "execution_count": 39,
   "metadata": {
    "execution": {
     "iopub.execute_input": "2022-09-27T11:21:20.772940Z",
     "iopub.status.busy": "2022-09-27T11:21:20.772570Z",
     "iopub.status.idle": "2022-09-27T11:21:21.000566Z",
     "shell.execute_reply": "2022-09-27T11:21:20.999149Z",
     "shell.execute_reply.started": "2022-09-27T11:21:20.772906Z"
    },
    "scrolled": true
   },
   "outputs": [
    {
     "data": {
      "image/png": "[encoded data removed]",
      "text/plain": [
       "<Figure size 432x288 with 1 Axes>"
      ]
     },
     "metadata": {
      "needs_background": "light"
     },
     "output_type": "display_data"
    }
   ],
   "source": [
    "# visualizing the pivot table \n",
    "ax = ns_pivot.plot(\n",
    "        kind='bar',\n",
    "        title = 'No. of patients by NoShow and Gender',\n",
    "        rot=0)\n",
    "ax.set_xlabel('Gender')\n",
    "ax.set_ylabel('No. of patients');"
   ]
  },
  {
   "cell_type": "markdown",
   "metadata": {},
   "source": [
    "For each gender, majority showed up for their appointment."
   ]
  },
  {
   "cell_type": "code",
   "execution_count": 40,
   "metadata": {
    "execution": {
     "iopub.execute_input": "2022-09-27T11:21:21.002462Z",
     "iopub.status.busy": "2022-09-27T11:21:21.002112Z",
     "iopub.status.idle": "2022-09-27T11:21:21.150255Z",
     "shell.execute_reply": "2022-09-27T11:21:21.148866Z",
     "shell.execute_reply.started": "2022-09-27T11:21:21.002430Z"
    }
   },
   "outputs": [
    {
     "name": "stdout",
     "output_type": "stream",
     "text": [
      "Number of females who showed: 57245\n",
      "Number of females who did not show: 14594\n",
      "Number of males who showed: 30962\n",
      "Number of males who did not show: 7725\n"
     ]
    }
   ],
   "source": [
    "# number of females who showed\n",
    "f_show_count = df_clean.query('Gender == \"F\" & NoShow == \"No\"').count().Gender\n",
    "print('Number of females who showed: ' + str(f_show_count))\n",
    "# number of females who did not show\n",
    "f_noshow_count = df_clean.query('Gender == \"F\" & NoShow == \"Yes\"').count().Gender\n",
    "print('Number of females who did not show: ' + str(f_noshow_count))\n",
    "# number of males who showed\n",
    "m_show_count = df_clean.query('Gender == \"M\" & NoShow == \"No\"').count().Gender\n",
    "print('Number of males who showed: ' + str(m_show_count))\n",
    "#number of males who did not show\n",
    "m_noshow_count = df_clean.query('Gender == \"M\" & NoShow == \"Yes\"').count().Gender\n",
    "print('Number of males who did not show: ' + str(m_noshow_count))"
   ]
  },
  {
   "cell_type": "code",
   "execution_count": 41,
   "metadata": {
    "execution": {
     "iopub.execute_input": "2022-09-27T11:21:21.154174Z",
     "iopub.status.busy": "2022-09-27T11:21:21.151863Z",
     "iopub.status.idle": "2022-09-27T11:21:21.158972Z",
     "shell.execute_reply": "2022-09-27T11:21:21.157837Z",
     "shell.execute_reply.started": "2022-09-27T11:21:21.154115Z"
    }
   },
   "outputs": [],
   "source": [
    "#creating a function for calculating percentages\n",
    "def percentage(value,total):\n",
    "    var_percent = (sample/total)*100\n",
    "    return var_percent"
   ]
  },
  {
   "cell_type": "code",
   "execution_count": 42,
   "metadata": {
    "execution": {
     "iopub.execute_input": "2022-09-27T11:21:21.160976Z",
     "iopub.status.busy": "2022-09-27T11:21:21.160267Z",
     "iopub.status.idle": "2022-09-27T11:21:21.172722Z",
     "shell.execute_reply": "2022-09-27T11:21:21.170778Z",
     "shell.execute_reply.started": "2022-09-27T11:21:21.160939Z"
    }
   },
   "outputs": [],
   "source": [
    "# creating a probability function\n",
    "def probability(outcome,total):\n",
    "    prob = (outcome/total)\n",
    "    return prob"
   ]
  },
  {
   "cell_type": "code",
   "execution_count": 43,
   "metadata": {
    "execution": {
     "iopub.execute_input": "2022-09-27T11:21:21.175148Z",
     "iopub.status.busy": "2022-09-27T11:21:21.174674Z",
     "iopub.status.idle": "2022-09-27T11:21:21.187595Z",
     "shell.execute_reply": "2022-09-27T11:21:21.186176Z",
     "shell.execute_reply.started": "2022-09-27T11:21:21.175112Z"
    }
   },
   "outputs": [
    {
     "data": {
      "text/plain": [
       "0.8"
      ]
     },
     "execution_count": 43,
     "metadata": {},
     "output_type": "execute_result"
    }
   ],
   "source": [
    "# probability of a female showing\n",
    "f_show_prob = probability(f_show_count,f_count)\n",
    "# rounding to two decimal places \n",
    "round(f_show_prob,2)"
   ]
  },
  {
   "cell_type": "markdown",
   "metadata": {},
   "source": [
    "The probaility of a female showing up for their appointment is 0.8"
   ]
  },
  {
   "cell_type": "code",
   "execution_count": 44,
   "metadata": {
    "execution": {
     "iopub.execute_input": "2022-09-27T11:21:21.190427Z",
     "iopub.status.busy": "2022-09-27T11:21:21.189829Z",
     "iopub.status.idle": "2022-09-27T11:21:21.201588Z",
     "shell.execute_reply": "2022-09-27T11:21:21.200323Z",
     "shell.execute_reply.started": "2022-09-27T11:21:21.190390Z"
    }
   },
   "outputs": [
    {
     "data": {
      "text/plain": [
       "0.8"
      ]
     },
     "execution_count": 44,
     "metadata": {},
     "output_type": "execute_result"
    }
   ],
   "source": [
    "# probability of a male showing\n",
    "m_show_prob = probability(m_show_count,m_count)\n",
    "round(m_show_prob,2)"
   ]
  },
  {
   "cell_type": "markdown",
   "metadata": {},
   "source": [
    "The probability of a male showing up for their appointment is 0.8"
   ]
  },
  {
   "cell_type": "markdown",
   "metadata": {},
   "source": [
    "* As the probability of both males and females showing up is 0.8, the gender of a patient is not important to predict whether they will show up for their appointment."
   ]
  },
  {
   "cell_type": "markdown",
   "metadata": {},
   "source": [
    "### Scholarship"
   ]
  },
  {
   "cell_type": "code",
   "execution_count": 45,
   "metadata": {
    "execution": {
     "iopub.execute_input": "2022-09-27T11:21:21.203690Z",
     "iopub.status.busy": "2022-09-27T11:21:21.202876Z",
     "iopub.status.idle": "2022-09-27T11:21:21.219990Z",
     "shell.execute_reply": "2022-09-27T11:21:21.218650Z",
     "shell.execute_reply.started": "2022-09-27T11:21:21.203652Z"
    },
    "scrolled": true
   },
   "outputs": [
    {
     "data": {
      "text/plain": [
       "0    99665\n",
       "1    10861\n",
       "Name: Scholarship, dtype: int64"
      ]
     },
     "execution_count": 45,
     "metadata": {},
     "output_type": "execute_result"
    }
   ],
   "source": [
    "#checking distribution of scholarship receipients\n",
    "df_clean['Scholarship'].value_counts()"
   ]
  },
  {
   "cell_type": "markdown",
   "metadata": {},
   "source": [
    "Of the 110527 appointments, 99665 of the patients who booked the appointment were not on scholarship and 10861 patients were on scholarship."
   ]
  },
  {
   "cell_type": "code",
   "execution_count": 46,
   "metadata": {
    "execution": {
     "iopub.execute_input": "2022-09-27T11:21:21.221941Z",
     "iopub.status.busy": "2022-09-27T11:21:21.221576Z",
     "iopub.status.idle": "2022-09-27T11:21:21.379923Z",
     "shell.execute_reply": "2022-09-27T11:21:21.378617Z",
     "shell.execute_reply.started": "2022-09-27T11:21:21.221906Z"
    }
   },
   "outputs": [
    {
     "data": {
      "image/png": "[encoded data removed]",
      "text/plain": [
       "<Figure size 432x288 with 1 Axes>"
      ]
     },
     "metadata": {
      "needs_background": "light"
     },
     "output_type": "display_data"
    }
   ],
   "source": [
    "#plotting the distribution of patients based on scholarship status\n",
    "ax = df['Scholarship'].value_counts().plot(\n",
    "        kind='bar',\n",
    "        title = 'No. of patients by Scholarship',\n",
    "        rot=0)\n",
    "ax.set_xlabel('Scholarship')\n",
    "ax.set_ylabel('No. of patients');"
   ]
  },
  {
   "cell_type": "markdown",
   "metadata": {},
   "source": [
    "The difference is made clearer by the graph. Now I want to check if scholarship status has an impact on whether a patient will show up for an appointment or not."
   ]
  },
  {
   "cell_type": "code",
   "execution_count": 47,
   "metadata": {
    "execution": {
     "iopub.execute_input": "2022-09-27T11:21:21.382969Z",
     "iopub.status.busy": "2022-09-27T11:21:21.381564Z",
     "iopub.status.idle": "2022-09-27T11:21:21.428762Z",
     "shell.execute_reply": "2022-09-27T11:21:21.427134Z",
     "shell.execute_reply.started": "2022-09-27T11:21:21.382926Z"
    }
   },
   "outputs": [
    {
     "data": {
      "text/html": [
       "<div>\n",
       "<style scoped>\n",
       "    .dataframe tbody tr th:only-of-type {\n",
       "        vertical-align: middle;\n",
       "    }\n",
       "\n",
       "    .dataframe tbody tr th {\n",
       "        vertical-align: top;\n",
       "    }\n",
       "\n",
       "    .dataframe thead th {\n",
       "        text-align: right;\n",
       "    }\n",
       "</style>\n",
       "<table border=\"1\" class=\"dataframe\">\n",
       "  <thead>\n",
       "    <tr style=\"text-align: right;\">\n",
       "      <th>NoShow</th>\n",
       "      <th>No</th>\n",
       "      <th>Yes</th>\n",
       "    </tr>\n",
       "    <tr>\n",
       "      <th>Scholarship</th>\n",
       "      <th></th>\n",
       "      <th></th>\n",
       "    </tr>\n",
       "  </thead>\n",
       "  <tbody>\n",
       "    <tr>\n",
       "      <th>0</th>\n",
       "      <td>79924</td>\n",
       "      <td>19741</td>\n",
       "    </tr>\n",
       "    <tr>\n",
       "      <th>1</th>\n",
       "      <td>8283</td>\n",
       "      <td>2578</td>\n",
       "    </tr>\n",
       "  </tbody>\n",
       "</table>\n",
       "</div>"
      ],
      "text/plain": [
       "NoShow          No    Yes\n",
       "Scholarship              \n",
       "0            79924  19741\n",
       "1             8283   2578"
      ]
     },
     "execution_count": 47,
     "metadata": {},
     "output_type": "execute_result"
    }
   ],
   "source": [
    "#creating a pivot table for Scholarship and NoShow\n",
    "df_sc = df_clean.groupby(['NoShow','Scholarship'],as_index=False).size()\n",
    "sc_pivot = pd.pivot_table(df_sc, values = 'size',columns=['NoShow'],index='Scholarship')\n",
    "sc_pivot"
   ]
  },
  {
   "cell_type": "code",
   "execution_count": 48,
   "metadata": {
    "execution": {
     "iopub.execute_input": "2022-09-27T11:21:21.431629Z",
     "iopub.status.busy": "2022-09-27T11:21:21.431150Z",
     "iopub.status.idle": "2022-09-27T11:21:21.738862Z",
     "shell.execute_reply": "2022-09-27T11:21:21.737389Z",
     "shell.execute_reply.started": "2022-09-27T11:21:21.431581Z"
    }
   },
   "outputs": [
    {
     "data": {
      "image/png": "[encoded data removed]",
      "text/plain": [
       "<Figure size 432x288 with 1 Axes>"
      ]
     },
     "metadata": {
      "needs_background": "light"
     },
     "output_type": "display_data"
    }
   ],
   "source": [
    "#plotting the pivot table on a grouped bar chart\n",
    "ax = sc_pivot.plot(\n",
    "        kind='bar',\n",
    "        title = 'No. of patients by Scholarship and NoShow',\n",
    "        rot=0)\n",
    "ax.set_xlabel('Scholarship')\n",
    "ax.set_ylabel('No. of patients');"
   ]
  },
  {
   "cell_type": "markdown",
   "metadata": {},
   "source": [
    "The graph shows that for each scholarship status, majority of the patients showed up. I will compute the probabilities to draw a more statistical conclusion."
   ]
  },
  {
   "cell_type": "code",
   "execution_count": 49,
   "metadata": {
    "execution": {
     "iopub.execute_input": "2022-09-27T11:21:21.741477Z",
     "iopub.status.busy": "2022-09-27T11:21:21.741047Z",
     "iopub.status.idle": "2022-09-27T11:21:21.817661Z",
     "shell.execute_reply": "2022-09-27T11:21:21.816141Z",
     "shell.execute_reply.started": "2022-09-27T11:21:21.741441Z"
    }
   },
   "outputs": [
    {
     "name": "stdout",
     "output_type": "stream",
     "text": [
      "Number of patients on scholarship: 10861\n",
      "Number of patients without scholarship: 99666\n"
     ]
    }
   ],
   "source": [
    "# variable for scholarship recipients\n",
    "scholarship_count = df.query('Scholarship == 1').count().Scholarship\n",
    "print('Number of patients on scholarship: ' + str(scholarship_count))\n",
    "# variable for non scholarship patients\n",
    "noscholarship_count = df.query('Scholarship == 0').count().Scholarship\n",
    "print('Number of patients without scholarship: ' + str(noscholarship_count))"
   ]
  },
  {
   "cell_type": "code",
   "execution_count": 50,
   "metadata": {
    "execution": {
     "iopub.execute_input": "2022-09-27T11:21:21.819848Z",
     "iopub.status.busy": "2022-09-27T11:21:21.819459Z",
     "iopub.status.idle": "2022-09-27T11:21:21.853472Z",
     "shell.execute_reply": "2022-09-27T11:21:21.852161Z",
     "shell.execute_reply.started": "2022-09-27T11:21:21.819812Z"
    }
   },
   "outputs": [
    {
     "data": {
      "text/plain": [
       "0.76"
      ]
     },
     "execution_count": 50,
     "metadata": {},
     "output_type": "execute_result"
    }
   ],
   "source": [
    "# number of scholarship recipients who showed up\n",
    "scholarship_show = df_clean.query('Scholarship == 1 & NoShow == \"No\"').count().Scholarship\n",
    "# probability of a scholarship recipient showing up\n",
    "scholarship_show_prob = probability(scholarship_show,scholarship_count)\n",
    "round(scholarship_show_prob,2)"
   ]
  },
  {
   "cell_type": "markdown",
   "metadata": {},
   "source": [
    "The probability of a patient on scholarship showing up is 0.76"
   ]
  },
  {
   "cell_type": "code",
   "execution_count": 51,
   "metadata": {
    "execution": {
     "iopub.execute_input": "2022-09-27T11:21:21.858376Z",
     "iopub.status.busy": "2022-09-27T11:21:21.857558Z",
     "iopub.status.idle": "2022-09-27T11:21:21.916000Z",
     "shell.execute_reply": "2022-09-27T11:21:21.914738Z",
     "shell.execute_reply.started": "2022-09-27T11:21:21.858333Z"
    }
   },
   "outputs": [
    {
     "data": {
      "text/plain": [
       "0.8"
      ]
     },
     "execution_count": 51,
     "metadata": {},
     "output_type": "execute_result"
    }
   ],
   "source": [
    "# number of no scholarship patients who showed up\n",
    "noscholarship_show = df_clean.query('Scholarship == 0 & NoShow == \"No\"').count().Scholarship\n",
    "# probability of a non scholarship patient showing up \n",
    "noscholarship_show_prob = probability(noscholarship_show,noscholarship_count)\n",
    "round(noscholarship_show_prob,2)"
   ]
  },
  {
   "cell_type": "markdown",
   "metadata": {},
   "source": [
    "The probability of a non-scholarship patient showing up is 0.8"
   ]
  },
  {
   "cell_type": "markdown",
   "metadata": {},
   "source": [
    "* As the probability of a non-scholarship patient showing up is higher than the probability of a scholarship patient showing up, scholarship status can be used in the prediction of show/no-show."
   ]
  },
  {
   "cell_type": "markdown",
   "metadata": {},
   "source": [
    "### SMS received"
   ]
  },
  {
   "cell_type": "code",
   "execution_count": 52,
   "metadata": {
    "execution": {
     "iopub.execute_input": "2022-09-27T11:21:21.918115Z",
     "iopub.status.busy": "2022-09-27T11:21:21.917520Z",
     "iopub.status.idle": "2022-09-27T11:21:21.991429Z",
     "shell.execute_reply": "2022-09-27T11:21:21.989626Z",
     "shell.execute_reply.started": "2022-09-27T11:21:21.918057Z"
    }
   },
   "outputs": [
    {
     "name": "stdout",
     "output_type": "stream",
     "text": [
      "Number of patients who did not receive SMS: 75044\n",
      "Number of patients who received SMS: 35482\n"
     ]
    }
   ],
   "source": [
    "# number of patients who did not receive sms\n",
    "no_sms = df_clean.query('SMSReceived == 0').count().SMSReceived\n",
    "print('Number of patients who did not receive SMS: ' + str(no_sms))\n",
    "# no of patients who recieved an sms\n",
    "sms_true = df_clean.query('SMSReceived == 1').count().SMSReceived\n",
    "print('Number of patients who received SMS: ' + str(sms_true))"
   ]
  },
  {
   "cell_type": "code",
   "execution_count": 53,
   "metadata": {
    "execution": {
     "iopub.execute_input": "2022-09-27T11:21:21.993942Z",
     "iopub.status.busy": "2022-09-27T11:21:21.993474Z",
     "iopub.status.idle": "2022-09-27T11:21:22.236417Z",
     "shell.execute_reply": "2022-09-27T11:21:22.234912Z",
     "shell.execute_reply.started": "2022-09-27T11:21:21.993903Z"
    }
   },
   "outputs": [
    {
     "data": {
      "image/png": "[encoded data removed]",
      "text/plain": [
       "<Figure size 432x288 with 1 Axes>"
      ]
     },
     "metadata": {
      "needs_background": "light"
     },
     "output_type": "display_data"
    }
   ],
   "source": [
    "#plotting distribution of the value counts\n",
    "ax = df_clean['SMSReceived'].value_counts().plot(\n",
    "        kind='bar',\n",
    "        title = 'No. of patients by SMSReceived',\n",
    "        rot=0)\n",
    "ax.set_xlabel('SMSReceived')\n",
    "ax.set_ylabel('No. of patients');"
   ]
  },
  {
   "cell_type": "markdown",
   "metadata": {},
   "source": [
    "As depicted by the graph, majority of patients did not receive an sms."
   ]
  },
  {
   "cell_type": "code",
   "execution_count": 54,
   "metadata": {
    "execution": {
     "iopub.execute_input": "2022-09-27T11:21:22.238605Z",
     "iopub.status.busy": "2022-09-27T11:21:22.238128Z",
     "iopub.status.idle": "2022-09-27T11:21:22.283848Z",
     "shell.execute_reply": "2022-09-27T11:21:22.282320Z",
     "shell.execute_reply.started": "2022-09-27T11:21:22.238548Z"
    },
    "scrolled": true
   },
   "outputs": [
    {
     "data": {
      "text/html": [
       "<div>\n",
       "<style scoped>\n",
       "    .dataframe tbody tr th:only-of-type {\n",
       "        vertical-align: middle;\n",
       "    }\n",
       "\n",
       "    .dataframe tbody tr th {\n",
       "        vertical-align: top;\n",
       "    }\n",
       "\n",
       "    .dataframe thead th {\n",
       "        text-align: right;\n",
       "    }\n",
       "</style>\n",
       "<table border=\"1\" class=\"dataframe\">\n",
       "  <thead>\n",
       "    <tr style=\"text-align: right;\">\n",
       "      <th>NoShow</th>\n",
       "      <th>No</th>\n",
       "      <th>Yes</th>\n",
       "    </tr>\n",
       "    <tr>\n",
       "      <th>SMSReceived</th>\n",
       "      <th></th>\n",
       "      <th></th>\n",
       "    </tr>\n",
       "  </thead>\n",
       "  <tbody>\n",
       "    <tr>\n",
       "      <th>0</th>\n",
       "      <td>62509</td>\n",
       "      <td>12535</td>\n",
       "    </tr>\n",
       "    <tr>\n",
       "      <th>1</th>\n",
       "      <td>25698</td>\n",
       "      <td>9784</td>\n",
       "    </tr>\n",
       "  </tbody>\n",
       "</table>\n",
       "</div>"
      ],
      "text/plain": [
       "NoShow          No    Yes\n",
       "SMSReceived              \n",
       "0            62509  12535\n",
       "1            25698   9784"
      ]
     },
     "execution_count": 54,
     "metadata": {},
     "output_type": "execute_result"
    }
   ],
   "source": [
    "#creating a pivot table for the SMSReceived and NoShow columns\n",
    "df_sms = df_clean.groupby(['SMSReceived','NoShow'],as_index=False).size()\n",
    "sms_pivot = pd.pivot_table(df_sms, values = 'size',columns=['NoShow'],index='SMSReceived')\n",
    "sms_pivot"
   ]
  },
  {
   "cell_type": "code",
   "execution_count": 55,
   "metadata": {
    "execution": {
     "iopub.execute_input": "2022-09-27T11:21:22.285695Z",
     "iopub.status.busy": "2022-09-27T11:21:22.285305Z",
     "iopub.status.idle": "2022-09-27T11:21:22.552253Z",
     "shell.execute_reply": "2022-09-27T11:21:22.551272Z",
     "shell.execute_reply.started": "2022-09-27T11:21:22.285657Z"
    }
   },
   "outputs": [
    {
     "data": {
      "image/png": "[encoded data removed]",
      "text/plain": [
       "<Figure size 432x288 with 1 Axes>"
      ]
     },
     "metadata": {
      "needs_background": "light"
     },
     "output_type": "display_data"
    }
   ],
   "source": [
    "#visualizing the pivot table on a grouped bar chart\n",
    "ax = sms_pivot.plot(\n",
    "        kind='bar',\n",
    "        title = 'No. of patients by SMSReceived and NoShow',\n",
    "        rot=0)\n",
    "ax.set_xlabel('SMSReceived')\n",
    "ax.set_ylabel('No. of patients');"
   ]
  },
  {
   "cell_type": "code",
   "execution_count": 56,
   "metadata": {
    "execution": {
     "iopub.execute_input": "2022-09-27T11:21:22.554135Z",
     "iopub.status.busy": "2022-09-27T11:21:22.553742Z",
     "iopub.status.idle": "2022-09-27T11:21:22.638655Z",
     "shell.execute_reply": "2022-09-27T11:21:22.637124Z",
     "shell.execute_reply.started": "2022-09-27T11:21:22.554099Z"
    }
   },
   "outputs": [
    {
     "name": "stdout",
     "output_type": "stream",
     "text": [
      "Number of patients who did not receive SMS and showed: 62509\n",
      "Number of patients who received SMS and showed: 25698\n"
     ]
    }
   ],
   "source": [
    "#number of patients who did not receive SMS and showed up\n",
    "nosms_show = df_clean.query('SMSReceived == 0 & NoShow == \"No\"').count().SMSReceived\n",
    "print('Number of patients who did not receive SMS and showed: ' + str(nosms_show))\n",
    "#number of patients who received SMS and showed up\n",
    "sms_show = df_clean.query('SMSReceived == 1 & NoShow == \"No\"').count().SMSReceived\n",
    "print('Number of patients who received SMS and showed: ' + str(sms_show))"
   ]
  },
  {
   "cell_type": "markdown",
   "metadata": {},
   "source": [
    "I assigned variables to the various results from the pivot table."
   ]
  },
  {
   "cell_type": "code",
   "execution_count": 57,
   "metadata": {
    "execution": {
     "iopub.execute_input": "2022-09-27T11:21:22.641138Z",
     "iopub.status.busy": "2022-09-27T11:21:22.640367Z",
     "iopub.status.idle": "2022-09-27T11:21:22.651817Z",
     "shell.execute_reply": "2022-09-27T11:21:22.650099Z",
     "shell.execute_reply.started": "2022-09-27T11:21:22.641090Z"
    }
   },
   "outputs": [
    {
     "data": {
      "text/plain": [
       "0.83"
      ]
     },
     "execution_count": 57,
     "metadata": {},
     "output_type": "execute_result"
    }
   ],
   "source": [
    "# probability of a patient who did not receive sms showing up\n",
    "nosms_show_prob = probability(nosms_show,no_sms)\n",
    "round(nosms_show_prob,2)"
   ]
  },
  {
   "cell_type": "markdown",
   "metadata": {},
   "source": [
    "The probability of a patient who did not receive SMS showing up is 0.83 "
   ]
  },
  {
   "cell_type": "code",
   "execution_count": 58,
   "metadata": {
    "execution": {
     "iopub.execute_input": "2022-09-27T11:21:22.655361Z",
     "iopub.status.busy": "2022-09-27T11:21:22.653575Z",
     "iopub.status.idle": "2022-09-27T11:21:22.668821Z",
     "shell.execute_reply": "2022-09-27T11:21:22.666680Z",
     "shell.execute_reply.started": "2022-09-27T11:21:22.655308Z"
    }
   },
   "outputs": [
    {
     "data": {
      "text/plain": [
       "0.72"
      ]
     },
     "execution_count": 58,
     "metadata": {},
     "output_type": "execute_result"
    }
   ],
   "source": [
    "# probability of a patient who received SMS showing \n",
    "sms_show_prob = probability(sms_show,sms_true)\n",
    "round(sms_show_prob,2)"
   ]
  },
  {
   "cell_type": "markdown",
   "metadata": {},
   "source": [
    "The probability of a patient who received an sms showing up is 0.72"
   ]
  },
  {
   "cell_type": "markdown",
   "metadata": {},
   "source": [
    "* As the probability of patients who did not receive SMS showing up is higher, SMS reception status can be used to predict whether a patient will show up for their appointment."
   ]
  },
  {
   "cell_type": "markdown",
   "metadata": {},
   "source": [
    "### Alcoholism"
   ]
  },
  {
   "cell_type": "code",
   "execution_count": 59,
   "metadata": {
    "execution": {
     "iopub.execute_input": "2022-09-27T11:21:22.672985Z",
     "iopub.status.busy": "2022-09-27T11:21:22.671448Z",
     "iopub.status.idle": "2022-09-27T11:21:22.687709Z",
     "shell.execute_reply": "2022-09-27T11:21:22.685855Z",
     "shell.execute_reply.started": "2022-09-27T11:21:22.672913Z"
    }
   },
   "outputs": [
    {
     "data": {
      "text/plain": [
       "0    107167\n",
       "1      3360\n",
       "Name: Alcoholism, dtype: int64"
      ]
     },
     "execution_count": 59,
     "metadata": {},
     "output_type": "execute_result"
    }
   ],
   "source": [
    "#checking distribution of alcoholism status \n",
    "df['Alcoholism'].value_counts()"
   ]
  },
  {
   "cell_type": "code",
   "execution_count": 60,
   "metadata": {
    "execution": {
     "iopub.execute_input": "2022-09-27T11:21:22.690419Z",
     "iopub.status.busy": "2022-09-27T11:21:22.689302Z",
     "iopub.status.idle": "2022-09-27T11:21:22.903479Z",
     "shell.execute_reply": "2022-09-27T11:21:22.902274Z",
     "shell.execute_reply.started": "2022-09-27T11:21:22.690367Z"
    }
   },
   "outputs": [
    {
     "data": {
      "image/png": "[encoded data removed]",
      "text/plain": [
       "<Figure size 432x288 with 1 Axes>"
      ]
     },
     "metadata": {
      "needs_background": "light"
     },
     "output_type": "display_data"
    }
   ],
   "source": [
    "# plotting the results above \n",
    "ax = df_clean['Alcoholism'].value_counts().plot(\n",
    "        kind='bar',\n",
    "        title = 'No of patients by Alcoholism',\n",
    "        rot=0)\n",
    "ax.set_xlabel('Alcoholism')\n",
    "ax.set_ylabel('No. of patients');"
   ]
  },
  {
   "cell_type": "markdown",
   "metadata": {},
   "source": [
    "Most of the patients were not involved in alcoholism."
   ]
  },
  {
   "cell_type": "code",
   "execution_count": 61,
   "metadata": {
    "execution": {
     "iopub.execute_input": "2022-09-27T11:21:22.906077Z",
     "iopub.status.busy": "2022-09-27T11:21:22.905298Z",
     "iopub.status.idle": "2022-09-27T11:21:22.955488Z",
     "shell.execute_reply": "2022-09-27T11:21:22.953432Z",
     "shell.execute_reply.started": "2022-09-27T11:21:22.906010Z"
    }
   },
   "outputs": [
    {
     "data": {
      "text/html": [
       "<div>\n",
       "<style scoped>\n",
       "    .dataframe tbody tr th:only-of-type {\n",
       "        vertical-align: middle;\n",
       "    }\n",
       "\n",
       "    .dataframe tbody tr th {\n",
       "        vertical-align: top;\n",
       "    }\n",
       "\n",
       "    .dataframe thead th {\n",
       "        text-align: right;\n",
       "    }\n",
       "</style>\n",
       "<table border=\"1\" class=\"dataframe\">\n",
       "  <thead>\n",
       "    <tr style=\"text-align: right;\">\n",
       "      <th>NoShow</th>\n",
       "      <th>No</th>\n",
       "      <th>Yes</th>\n",
       "    </tr>\n",
       "    <tr>\n",
       "      <th>Alcoholism</th>\n",
       "      <th></th>\n",
       "      <th></th>\n",
       "    </tr>\n",
       "  </thead>\n",
       "  <tbody>\n",
       "    <tr>\n",
       "      <th>0</th>\n",
       "      <td>85524</td>\n",
       "      <td>21642</td>\n",
       "    </tr>\n",
       "    <tr>\n",
       "      <th>1</th>\n",
       "      <td>2683</td>\n",
       "      <td>677</td>\n",
       "    </tr>\n",
       "  </tbody>\n",
       "</table>\n",
       "</div>"
      ],
      "text/plain": [
       "NoShow         No    Yes\n",
       "Alcoholism              \n",
       "0           85524  21642\n",
       "1            2683    677"
      ]
     },
     "execution_count": 61,
     "metadata": {},
     "output_type": "execute_result"
    }
   ],
   "source": [
    "#creating a pivot table for the Alcoholism and NoShow columns\n",
    "df_alcohol = df_clean.groupby(['NoShow','Alcoholism'],as_index=False).size()\n",
    "alcoholism_pivot = pd.pivot_table(df_alcohol, \n",
    "        values = 'size',\n",
    "        columns=['NoShow'],\n",
    "        index='Alcoholism')\n",
    "alcoholism_pivot"
   ]
  },
  {
   "cell_type": "code",
   "execution_count": 62,
   "metadata": {
    "execution": {
     "iopub.execute_input": "2022-09-27T11:21:22.958171Z",
     "iopub.status.busy": "2022-09-27T11:21:22.957113Z",
     "iopub.status.idle": "2022-09-27T11:21:23.217574Z",
     "shell.execute_reply": "2022-09-27T11:21:23.216447Z",
     "shell.execute_reply.started": "2022-09-27T11:21:22.958130Z"
    }
   },
   "outputs": [
    {
     "data": {
      "image/png": "[encoded data removed]",
      "text/plain": [
       "<Figure size 432x288 with 1 Axes>"
      ]
     },
     "metadata": {
      "needs_background": "light"
     },
     "output_type": "display_data"
    }
   ],
   "source": [
    "#plotting the pivot table above on a grouped bar chart\n",
    "ax = alcoholism_pivot.plot(\n",
    "        kind='bar',\n",
    "        title='No. of patients by Alcoholism and NoShow',\n",
    "        rot=0)\n",
    "ax.set_xlabel('Alcoholism')\n",
    "ax.set_ylabel('No. of patients');"
   ]
  },
  {
   "cell_type": "code",
   "execution_count": 63,
   "metadata": {
    "execution": {
     "iopub.execute_input": "2022-09-27T11:21:23.220019Z",
     "iopub.status.busy": "2022-09-27T11:21:23.219449Z",
     "iopub.status.idle": "2022-09-27T11:21:23.259294Z",
     "shell.execute_reply": "2022-09-27T11:21:23.258154Z",
     "shell.execute_reply.started": "2022-09-27T11:21:23.219970Z"
    }
   },
   "outputs": [
    {
     "data": {
      "text/plain": [
       "0.8"
      ]
     },
     "execution_count": 63,
     "metadata": {},
     "output_type": "execute_result"
    }
   ],
   "source": [
    "#calculating number of patients involved in alcoholism and showed up\n",
    "alcoholism_show = df_clean.query('Alcoholism == 1 & NoShow == \"No\"').count().Alcoholism\n",
    "# number of patients involved in alcohol\n",
    "alcoholism_count = df_clean.query('Alcoholism == 1').count().Alcoholism\n",
    "# calculating probability\n",
    "alcoholism_show_prob = probability(alcoholism_show,alcoholism_count)\n",
    "round(alcoholism_show_prob,2)"
   ]
  },
  {
   "cell_type": "markdown",
   "metadata": {},
   "source": [
    "The probability of a patient involved in alcoholism showing up is 0.8"
   ]
  },
  {
   "cell_type": "code",
   "execution_count": 64,
   "metadata": {
    "execution": {
     "iopub.execute_input": "2022-09-27T11:21:23.261850Z",
     "iopub.status.busy": "2022-09-27T11:21:23.261024Z",
     "iopub.status.idle": "2022-09-27T11:21:23.370202Z",
     "shell.execute_reply": "2022-09-27T11:21:23.368805Z",
     "shell.execute_reply.started": "2022-09-27T11:21:23.261802Z"
    }
   },
   "outputs": [
    {
     "data": {
      "text/plain": [
       "0.8"
      ]
     },
     "execution_count": 64,
     "metadata": {},
     "output_type": "execute_result"
    }
   ],
   "source": [
    "# number of non alcoholic patients\n",
    "no_alcoholism_count = df_clean.query('Alcoholism == 0').count().Alcoholism\n",
    "#calculating number of patients who were not involved in alcoholism and showed up\n",
    "no_alcoholism_show = df_clean.query('Alcoholism == 0 & NoShow == \"No\"').count().Alcoholism\n",
    "# calculating probability\n",
    "no_alcoholism_show_prob = probability(no_alcoholism_show,no_alcoholism_count)\n",
    "round(no_alcoholism_show_prob,2)"
   ]
  },
  {
   "cell_type": "markdown",
   "metadata": {},
   "source": [
    "The probability of a non-alcoholic patient showing up is 0.8"
   ]
  },
  {
   "cell_type": "markdown",
   "metadata": {},
   "source": [
    "* The probabilities of alcoholic and non-alcoholic patients showing up is 0.8 therefore as an individual variable, alcoholism is not an important factor in predicting show/no-show."
   ]
  },
  {
   "cell_type": "markdown",
   "metadata": {},
   "source": [
    "### Hypertension"
   ]
  },
  {
   "cell_type": "code",
   "execution_count": 65,
   "metadata": {
    "execution": {
     "iopub.execute_input": "2022-09-27T11:21:23.373452Z",
     "iopub.status.busy": "2022-09-27T11:21:23.372197Z",
     "iopub.status.idle": "2022-09-27T11:21:23.386914Z",
     "shell.execute_reply": "2022-09-27T11:21:23.385700Z",
     "shell.execute_reply.started": "2022-09-27T11:21:23.373401Z"
    }
   },
   "outputs": [
    {
     "data": {
      "text/plain": [
       "0    88725\n",
       "1    21801\n",
       "Name: Hypertension, dtype: int64"
      ]
     },
     "execution_count": 65,
     "metadata": {},
     "output_type": "execute_result"
    }
   ],
   "source": [
    "# distribution of hypertension\n",
    "df_clean['Hypertension'].value_counts()"
   ]
  },
  {
   "cell_type": "code",
   "execution_count": 66,
   "metadata": {
    "execution": {
     "iopub.execute_input": "2022-09-27T11:21:23.388744Z",
     "iopub.status.busy": "2022-09-27T11:21:23.388375Z",
     "iopub.status.idle": "2022-09-27T11:21:23.592932Z",
     "shell.execute_reply": "2022-09-27T11:21:23.591702Z",
     "shell.execute_reply.started": "2022-09-27T11:21:23.388703Z"
    }
   },
   "outputs": [
    {
     "data": {
      "image/png": "[encoded data removed]",
      "text/plain": [
       "<Figure size 432x288 with 1 Axes>"
      ]
     },
     "metadata": {
      "needs_background": "light"
     },
     "output_type": "display_data"
    }
   ],
   "source": [
    "#plotting value counts\n",
    "ax = df_clean['Hypertension'].value_counts().plot(\n",
    "        kind='bar',\n",
    "        title= 'distribution of hypertension status',\n",
    "        rot=0)\n",
    "ax.set_xlabel('Hypertension status')\n",
    "ax.set_ylabel('Number of patients');"
   ]
  },
  {
   "cell_type": "markdown",
   "metadata": {},
   "source": [
    "Majority of the patients were not hypertensive."
   ]
  },
  {
   "cell_type": "code",
   "execution_count": 67,
   "metadata": {
    "execution": {
     "iopub.execute_input": "2022-09-27T11:21:23.595386Z",
     "iopub.status.busy": "2022-09-27T11:21:23.594483Z",
     "iopub.status.idle": "2022-09-27T11:21:23.650223Z",
     "shell.execute_reply": "2022-09-27T11:21:23.648957Z",
     "shell.execute_reply.started": "2022-09-27T11:21:23.595336Z"
    }
   },
   "outputs": [
    {
     "data": {
      "text/html": [
       "<div>\n",
       "<style scoped>\n",
       "    .dataframe tbody tr th:only-of-type {\n",
       "        vertical-align: middle;\n",
       "    }\n",
       "\n",
       "    .dataframe tbody tr th {\n",
       "        vertical-align: top;\n",
       "    }\n",
       "\n",
       "    .dataframe thead th {\n",
       "        text-align: right;\n",
       "    }\n",
       "</style>\n",
       "<table border=\"1\" class=\"dataframe\">\n",
       "  <thead>\n",
       "    <tr style=\"text-align: right;\">\n",
       "      <th>NoShow</th>\n",
       "      <th>No</th>\n",
       "      <th>Yes</th>\n",
       "    </tr>\n",
       "    <tr>\n",
       "      <th>Hypertension</th>\n",
       "      <th></th>\n",
       "      <th></th>\n",
       "    </tr>\n",
       "  </thead>\n",
       "  <tbody>\n",
       "    <tr>\n",
       "      <th>0</th>\n",
       "      <td>70178</td>\n",
       "      <td>18547</td>\n",
       "    </tr>\n",
       "    <tr>\n",
       "      <th>1</th>\n",
       "      <td>18029</td>\n",
       "      <td>3772</td>\n",
       "    </tr>\n",
       "  </tbody>\n",
       "</table>\n",
       "</div>"
      ],
      "text/plain": [
       "NoShow           No    Yes\n",
       "Hypertension              \n",
       "0             70178  18547\n",
       "1             18029   3772"
      ]
     },
     "execution_count": 67,
     "metadata": {},
     "output_type": "execute_result"
    }
   ],
   "source": [
    "# pivot table of NoShow and Hypertension columns\n",
    "df_hyper = df_clean.groupby(['NoShow','Hypertension'],as_index=False).size()\n",
    "hyper_pivot = pd.pivot_table(df_hyper, \n",
    "        values = 'size',\n",
    "        columns=['NoShow'],\n",
    "        index='Hypertension')\n",
    "hyper_pivot"
   ]
  },
  {
   "cell_type": "code",
   "execution_count": 68,
   "metadata": {
    "execution": {
     "iopub.execute_input": "2022-09-27T11:21:23.652906Z",
     "iopub.status.busy": "2022-09-27T11:21:23.652045Z",
     "iopub.status.idle": "2022-09-27T11:21:23.909200Z",
     "shell.execute_reply": "2022-09-27T11:21:23.907967Z",
     "shell.execute_reply.started": "2022-09-27T11:21:23.652859Z"
    }
   },
   "outputs": [
    {
     "data": {
      "image/png": "[encoded data removed]",
      "text/plain": [
       "<Figure size 432x288 with 1 Axes>"
      ]
     },
     "metadata": {
      "needs_background": "light"
     },
     "output_type": "display_data"
    }
   ],
   "source": [
    "# plotting the pivot table on a grouped bar chart\n",
    "ax = hyper_pivot.plot(\n",
    "        kind='bar',\n",
    "        title='Number of patients by hypertension and no-show',\n",
    "        rot=0)\n",
    "ax.set_xlabel('Hypertension')\n",
    "ax.set_ylabel('Num of patients');"
   ]
  },
  {
   "cell_type": "markdown",
   "metadata": {},
   "source": [
    "For each category, majority of patients showed up. I will calculate the probability of a patient from each category showing up."
   ]
  },
  {
   "cell_type": "code",
   "execution_count": 69,
   "metadata": {
    "execution": {
     "iopub.execute_input": "2022-09-27T11:21:23.913045Z",
     "iopub.status.busy": "2022-09-27T11:21:23.912463Z",
     "iopub.status.idle": "2022-09-27T11:21:23.969460Z",
     "shell.execute_reply": "2022-09-27T11:21:23.968138Z",
     "shell.execute_reply.started": "2022-09-27T11:21:23.912994Z"
    }
   },
   "outputs": [
    {
     "data": {
      "text/plain": [
       "0.83"
      ]
     },
     "execution_count": 69,
     "metadata": {},
     "output_type": "execute_result"
    }
   ],
   "source": [
    "# number of patients with hypertension that showed up\n",
    "hyper_show = df_clean.query('Hypertension == 1 & NoShow == \"No\"').count().Hypertension\n",
    "# number of patients with hypertension\n",
    "hyper_count = df_clean.query('Hypertension == 1').count().Hypertension\n",
    "# calculating probability\n",
    "hyper_show_prob = probability(hyper_show,hyper_count)\n",
    "round(hyper_show_prob,2)"
   ]
  },
  {
   "cell_type": "markdown",
   "metadata": {},
   "source": [
    "The probability of a patient with hypertension showing up is 0.83."
   ]
  },
  {
   "cell_type": "code",
   "execution_count": 70,
   "metadata": {
    "execution": {
     "iopub.execute_input": "2022-09-27T11:21:23.971530Z",
     "iopub.status.busy": "2022-09-27T11:21:23.971079Z",
     "iopub.status.idle": "2022-09-27T11:21:24.070632Z",
     "shell.execute_reply": "2022-09-27T11:21:24.069316Z",
     "shell.execute_reply.started": "2022-09-27T11:21:23.971490Z"
    }
   },
   "outputs": [
    {
     "data": {
      "text/plain": [
       "0.79"
      ]
     },
     "execution_count": 70,
     "metadata": {},
     "output_type": "execute_result"
    }
   ],
   "source": [
    "# number of patients without hypertension that showed up\n",
    "no_hyper_show = df_clean.query('Hypertension == 0 & NoShow == \"No\"').count().Hypertension\n",
    "# number of patients without hypertension\n",
    "no_hyper_count = df_clean.query('Hypertension == 0').count().Hypertension\n",
    "# calculating probability\n",
    "no_hyper_show_prob = probability(no_hyper_show,no_hyper_count)\n",
    "round(no_hyper_show_prob,2)"
   ]
  },
  {
   "cell_type": "markdown",
   "metadata": {},
   "source": [
    "The probability of a patient with out hypertension showing up is 0.79"
   ]
  },
  {
   "cell_type": "markdown",
   "metadata": {},
   "source": [
    "* Hypertension status can be used in the prediction of show/no-show."
   ]
  },
  {
   "cell_type": "markdown",
   "metadata": {},
   "source": [
    "### Diabetes"
   ]
  },
  {
   "cell_type": "code",
   "execution_count": 71,
   "metadata": {
    "execution": {
     "iopub.execute_input": "2022-09-27T11:21:24.073467Z",
     "iopub.status.busy": "2022-09-27T11:21:24.072217Z",
     "iopub.status.idle": "2022-09-27T11:21:24.084733Z",
     "shell.execute_reply": "2022-09-27T11:21:24.083568Z",
     "shell.execute_reply.started": "2022-09-27T11:21:24.073414Z"
    }
   },
   "outputs": [
    {
     "data": {
      "text/plain": [
       "0    102583\n",
       "1      7943\n",
       "Name: Diabetes, dtype: int64"
      ]
     },
     "execution_count": 71,
     "metadata": {},
     "output_type": "execute_result"
    }
   ],
   "source": [
    "# distribution of diabetes status\n",
    "df_clean['Diabetes'].value_counts()"
   ]
  },
  {
   "cell_type": "code",
   "execution_count": 72,
   "metadata": {
    "execution": {
     "iopub.execute_input": "2022-09-27T11:21:24.087365Z",
     "iopub.status.busy": "2022-09-27T11:21:24.086263Z",
     "iopub.status.idle": "2022-09-27T11:21:24.132708Z",
     "shell.execute_reply": "2022-09-27T11:21:24.131432Z",
     "shell.execute_reply.started": "2022-09-27T11:21:24.087314Z"
    }
   },
   "outputs": [
    {
     "data": {
      "text/html": [
       "<div>\n",
       "<style scoped>\n",
       "    .dataframe tbody tr th:only-of-type {\n",
       "        vertical-align: middle;\n",
       "    }\n",
       "\n",
       "    .dataframe tbody tr th {\n",
       "        vertical-align: top;\n",
       "    }\n",
       "\n",
       "    .dataframe thead th {\n",
       "        text-align: right;\n",
       "    }\n",
       "</style>\n",
       "<table border=\"1\" class=\"dataframe\">\n",
       "  <thead>\n",
       "    <tr style=\"text-align: right;\">\n",
       "      <th>NoShow</th>\n",
       "      <th>No</th>\n",
       "      <th>Yes</th>\n",
       "    </tr>\n",
       "    <tr>\n",
       "      <th>Diabetes</th>\n",
       "      <th></th>\n",
       "      <th></th>\n",
       "    </tr>\n",
       "  </thead>\n",
       "  <tbody>\n",
       "    <tr>\n",
       "      <th>0</th>\n",
       "      <td>81694</td>\n",
       "      <td>20889</td>\n",
       "    </tr>\n",
       "    <tr>\n",
       "      <th>1</th>\n",
       "      <td>6513</td>\n",
       "      <td>1430</td>\n",
       "    </tr>\n",
       "  </tbody>\n",
       "</table>\n",
       "</div>"
      ],
      "text/plain": [
       "NoShow       No    Yes\n",
       "Diabetes              \n",
       "0         81694  20889\n",
       "1          6513   1430"
      ]
     },
     "execution_count": 72,
     "metadata": {},
     "output_type": "execute_result"
    }
   ],
   "source": [
    "# pivot table of diabetes and no-show column\n",
    "df_diabetes = df_clean.groupby(['NoShow','Diabetes'],as_index=False).size()\n",
    "diabetes_pivot = pd.pivot_table(df_diabetes, \n",
    "        values = 'size',\n",
    "        columns=['NoShow'],\n",
    "        index='Diabetes')\n",
    "diabetes_pivot"
   ]
  },
  {
   "cell_type": "code",
   "execution_count": 73,
   "metadata": {
    "execution": {
     "iopub.execute_input": "2022-09-27T11:21:24.135741Z",
     "iopub.status.busy": "2022-09-27T11:21:24.134248Z",
     "iopub.status.idle": "2022-09-27T11:21:24.247486Z",
     "shell.execute_reply": "2022-09-27T11:21:24.246189Z",
     "shell.execute_reply.started": "2022-09-27T11:21:24.135699Z"
    }
   },
   "outputs": [
    {
     "data": {
      "text/plain": [
       "0.8"
      ]
     },
     "execution_count": 73,
     "metadata": {},
     "output_type": "execute_result"
    }
   ],
   "source": [
    "# number of patients without diabetes\n",
    "no_diabetes_count = df_clean.query('Diabetes == 0').count().Diabetes\n",
    "# number of non-diabetic patients who showed up\n",
    "no_diabetes_show_count = df_clean.query('Diabetes == 0 & NoShow== \"No\"').count().Diabetes\n",
    "#calculating probability\n",
    "no_diabetes_show_prob = probability(no_diabetes_show_count,no_diabetes_count)\n",
    "round(no_diabetes_show_prob,2)"
   ]
  },
  {
   "cell_type": "markdown",
   "metadata": {},
   "source": [
    "The probability of a non-diabetic patient showing up is 0.8"
   ]
  },
  {
   "cell_type": "code",
   "execution_count": 74,
   "metadata": {
    "execution": {
     "iopub.execute_input": "2022-09-27T11:21:24.251391Z",
     "iopub.status.busy": "2022-09-27T11:21:24.249979Z",
     "iopub.status.idle": "2022-09-27T11:21:24.303529Z",
     "shell.execute_reply": "2022-09-27T11:21:24.302255Z",
     "shell.execute_reply.started": "2022-09-27T11:21:24.251316Z"
    }
   },
   "outputs": [
    {
     "data": {
      "text/plain": [
       "0.82"
      ]
     },
     "execution_count": 74,
     "metadata": {},
     "output_type": "execute_result"
    }
   ],
   "source": [
    "#number of diabetic patients\n",
    "diabetes_count = df_clean.query('Diabetes == 1').count().Diabetes\n",
    "#number of diabetic patients who showed up\n",
    "diabetes_show_count = df_clean.query('Diabetes == 1 & NoShow == \"No\"').count().Diabetes\n",
    "#calculating probability\n",
    "diabetes_show_prob = probability(diabetes_show_count,diabetes_count)\n",
    "round(diabetes_show_prob,2)"
   ]
  },
  {
   "cell_type": "markdown",
   "metadata": {},
   "source": [
    "The probability of a diabetic patients showing up is 0.82."
   ]
  },
  {
   "cell_type": "markdown",
   "metadata": {},
   "source": [
    "* Even though there is a slight difference between both probabilities, I maintain that diabetes status is not an important facotr to predict whether a patient will show up."
   ]
  },
  {
   "cell_type": "markdown",
   "metadata": {},
   "source": [
    "### Handicapped"
   ]
  },
  {
   "cell_type": "code",
   "execution_count": 75,
   "metadata": {
    "execution": {
     "iopub.execute_input": "2022-09-27T11:21:24.305962Z",
     "iopub.status.busy": "2022-09-27T11:21:24.305450Z",
     "iopub.status.idle": "2022-09-27T11:21:24.318396Z",
     "shell.execute_reply": "2022-09-27T11:21:24.317051Z",
     "shell.execute_reply.started": "2022-09-27T11:21:24.305913Z"
    }
   },
   "outputs": [
    {
     "data": {
      "text/plain": [
       "0    108285\n",
       "1      2042\n",
       "2       183\n",
       "3        13\n",
       "4         3\n",
       "Name: Handicapped, dtype: int64"
      ]
     },
     "execution_count": 75,
     "metadata": {},
     "output_type": "execute_result"
    }
   ],
   "source": [
    "#distribution of handicap status\n",
    "df_clean.Handicapped.value_counts()"
   ]
  },
  {
   "cell_type": "code",
   "execution_count": 76,
   "metadata": {
    "execution": {
     "iopub.execute_input": "2022-09-27T11:21:24.321055Z",
     "iopub.status.busy": "2022-09-27T11:21:24.320079Z",
     "iopub.status.idle": "2022-09-27T11:21:24.369888Z",
     "shell.execute_reply": "2022-09-27T11:21:24.368494Z",
     "shell.execute_reply.started": "2022-09-27T11:21:24.321006Z"
    }
   },
   "outputs": [
    {
     "data": {
      "text/html": [
       "<div>\n",
       "<style scoped>\n",
       "    .dataframe tbody tr th:only-of-type {\n",
       "        vertical-align: middle;\n",
       "    }\n",
       "\n",
       "    .dataframe tbody tr th {\n",
       "        vertical-align: top;\n",
       "    }\n",
       "\n",
       "    .dataframe thead th {\n",
       "        text-align: right;\n",
       "    }\n",
       "</style>\n",
       "<table border=\"1\" class=\"dataframe\">\n",
       "  <thead>\n",
       "    <tr style=\"text-align: right;\">\n",
       "      <th>NoShow</th>\n",
       "      <th>No</th>\n",
       "      <th>Yes</th>\n",
       "    </tr>\n",
       "    <tr>\n",
       "      <th>Handicapped</th>\n",
       "      <th></th>\n",
       "      <th></th>\n",
       "    </tr>\n",
       "  </thead>\n",
       "  <tbody>\n",
       "    <tr>\n",
       "      <th>0</th>\n",
       "      <td>86373</td>\n",
       "      <td>21912</td>\n",
       "    </tr>\n",
       "    <tr>\n",
       "      <th>1</th>\n",
       "      <td>1676</td>\n",
       "      <td>366</td>\n",
       "    </tr>\n",
       "    <tr>\n",
       "      <th>2</th>\n",
       "      <td>146</td>\n",
       "      <td>37</td>\n",
       "    </tr>\n",
       "    <tr>\n",
       "      <th>3</th>\n",
       "      <td>10</td>\n",
       "      <td>3</td>\n",
       "    </tr>\n",
       "    <tr>\n",
       "      <th>4</th>\n",
       "      <td>2</td>\n",
       "      <td>1</td>\n",
       "    </tr>\n",
       "  </tbody>\n",
       "</table>\n",
       "</div>"
      ],
      "text/plain": [
       "NoShow          No    Yes\n",
       "Handicapped              \n",
       "0            86373  21912\n",
       "1             1676    366\n",
       "2              146     37\n",
       "3               10      3\n",
       "4                2      1"
      ]
     },
     "execution_count": 76,
     "metadata": {},
     "output_type": "execute_result"
    }
   ],
   "source": [
    "#creating a pivot table of the handicap column and no-show\n",
    "df_hc = df_clean.groupby(['Handicapped','NoShow'],as_index=False).size()\n",
    "hc_pivot = pd.pivot(df_hc,values='size',index='Handicapped',columns='NoShow')\n",
    "hc_pivot"
   ]
  },
  {
   "cell_type": "code",
   "execution_count": 77,
   "metadata": {
    "execution": {
     "iopub.execute_input": "2022-09-27T11:21:24.373884Z",
     "iopub.status.busy": "2022-09-27T11:21:24.371920Z",
     "iopub.status.idle": "2022-09-27T11:21:24.519664Z",
     "shell.execute_reply": "2022-09-27T11:21:24.518207Z",
     "shell.execute_reply.started": "2022-09-27T11:21:24.373776Z"
    }
   },
   "outputs": [
    {
     "data": {
      "text/plain": [
       "0.8"
      ]
     },
     "execution_count": 77,
     "metadata": {},
     "output_type": "execute_result"
    }
   ],
   "source": [
    "# number of patients with zero handicaps\n",
    "zero_hc_count = df_clean.query('Handicapped == 0').count().Handicapped\n",
    "#number of patients with zero handicaps who showed up\n",
    "zero_hc_show = df_clean.query('Handicapped == 0 & NoShow == \"No\"').count().Handicapped\n",
    "#calculating probability\n",
    "zero_hc_show_prob = probability(zero_hc_show,zero_hc_count)\n",
    "round(zero_hc_show_prob,2)"
   ]
  },
  {
   "cell_type": "markdown",
   "metadata": {},
   "source": [
    "The probability of a patient with zero handicap showing is 0.8"
   ]
  },
  {
   "cell_type": "code",
   "execution_count": 78,
   "metadata": {
    "execution": {
     "iopub.execute_input": "2022-09-27T11:21:24.522023Z",
     "iopub.status.busy": "2022-09-27T11:21:24.521463Z",
     "iopub.status.idle": "2022-09-27T11:21:24.565148Z",
     "shell.execute_reply": "2022-09-27T11:21:24.563473Z",
     "shell.execute_reply.started": "2022-09-27T11:21:24.521891Z"
    }
   },
   "outputs": [
    {
     "data": {
      "text/plain": [
       "0.82"
      ]
     },
     "execution_count": 78,
     "metadata": {},
     "output_type": "execute_result"
    }
   ],
   "source": [
    "#number of patients with one handicap\n",
    "one_hc_count = df_clean.query('Handicapped == 1').count().Handicapped\n",
    "#number of one handicapped patients who showed up\n",
    "one_hc_show = df_clean.query('Handicapped == 1 & NoShow == \"No\"').count().Handicapped\n",
    "# calculating probability\n",
    "one_hc_show_prob = probability(one_hc_show,one_hc_count)\n",
    "round(one_hc_show_prob,2)"
   ]
  },
  {
   "cell_type": "markdown",
   "metadata": {},
   "source": [
    "The probability of a one-handicapped patient showing up is 0.82"
   ]
  },
  {
   "cell_type": "code",
   "execution_count": 79,
   "metadata": {
    "execution": {
     "iopub.execute_input": "2022-09-27T11:21:24.567562Z",
     "iopub.status.busy": "2022-09-27T11:21:24.567129Z",
     "iopub.status.idle": "2022-09-27T11:21:24.604778Z",
     "shell.execute_reply": "2022-09-27T11:21:24.603342Z",
     "shell.execute_reply.started": "2022-09-27T11:21:24.567514Z"
    }
   },
   "outputs": [
    {
     "data": {
      "text/plain": [
       "0.8"
      ]
     },
     "execution_count": 79,
     "metadata": {},
     "output_type": "execute_result"
    }
   ],
   "source": [
    "# number of patients with two handicaps\n",
    "two_hc_count = df_clean.query('Handicapped == 2').count().Handicapped\n",
    "# number of patients with two handicaps who showed\n",
    "two_hc_show = df_clean.query('Handicapped == 2 & NoShow == \"No\"').count().Handicapped\n",
    "# calculating probability\n",
    "two_hc_show_prob = probability(two_hc_show,two_hc_count)\n",
    "round(two_hc_show_prob,2)"
   ]
  },
  {
   "cell_type": "markdown",
   "metadata": {},
   "source": [
    "The probability of a patient with two handicaps showing up is 0.8"
   ]
  },
  {
   "cell_type": "code",
   "execution_count": 80,
   "metadata": {
    "execution": {
     "iopub.execute_input": "2022-09-27T11:21:24.607043Z",
     "iopub.status.busy": "2022-09-27T11:21:24.606629Z",
     "iopub.status.idle": "2022-09-27T11:21:24.642044Z",
     "shell.execute_reply": "2022-09-27T11:21:24.640894Z",
     "shell.execute_reply.started": "2022-09-27T11:21:24.607008Z"
    }
   },
   "outputs": [
    {
     "data": {
      "text/plain": [
       "0.77"
      ]
     },
     "execution_count": 80,
     "metadata": {},
     "output_type": "execute_result"
    }
   ],
   "source": [
    "# number of patients with 3 handicaps\n",
    "three_hc_count = df_clean.query('Handicapped == 3').count().Handicapped\n",
    "# number of patients with 3 handicaps who showed\n",
    "three_hc_show = df_clean.query('Handicapped == 3 & NoShow == \"No\"').count().Handicapped\n",
    "# calculating probability\n",
    "three_hc_show_prob = probability(three_hc_show,three_hc_count)\n",
    "round(three_hc_show_prob,2)"
   ]
  },
  {
   "cell_type": "markdown",
   "metadata": {},
   "source": [
    "The probability of a patient with 3 handicaps showing up is 0.77"
   ]
  },
  {
   "cell_type": "code",
   "execution_count": 81,
   "metadata": {
    "execution": {
     "iopub.execute_input": "2022-09-27T11:21:24.643786Z",
     "iopub.status.busy": "2022-09-27T11:21:24.643418Z",
     "iopub.status.idle": "2022-09-27T11:21:24.678598Z",
     "shell.execute_reply": "2022-09-27T11:21:24.677318Z",
     "shell.execute_reply.started": "2022-09-27T11:21:24.643751Z"
    }
   },
   "outputs": [
    {
     "data": {
      "text/plain": [
       "0.67"
      ]
     },
     "execution_count": 81,
     "metadata": {},
     "output_type": "execute_result"
    }
   ],
   "source": [
    "#number of patients with four handicaps\n",
    "four_hc_count = df_clean.query('Handicapped == 4').count().Handicapped\n",
    "#number of patients with four handicaps who showed\n",
    "four_hc_show = df_clean.query('Handicapped == 4 & NoShow == \"No\"').count().Handicapped\n",
    "# calculating probability\n",
    "four_hc_show_prob = probability(four_hc_show,four_hc_count)\n",
    "round(four_hc_show_prob,2)"
   ]
  },
  {
   "cell_type": "markdown",
   "metadata": {},
   "source": [
    "The probability of a patient with four handicaps showing up is 0.67."
   ]
  },
  {
   "cell_type": "markdown",
   "metadata": {},
   "source": [
    "* Given the varying probabilities, handicap status can be used in the prediction of show/no-show"
   ]
  },
  {
   "cell_type": "markdown",
   "metadata": {},
   "source": [
    "### Day of the week"
   ]
  },
  {
   "cell_type": "code",
   "execution_count": 82,
   "metadata": {
    "execution": {
     "iopub.execute_input": "2022-09-27T11:21:24.695841Z",
     "iopub.status.busy": "2022-09-27T11:21:24.695052Z",
     "iopub.status.idle": "2022-09-27T11:21:24.756716Z",
     "shell.execute_reply": "2022-09-27T11:21:24.755005Z",
     "shell.execute_reply.started": "2022-09-27T11:21:24.695782Z"
    }
   },
   "outputs": [],
   "source": [
    "#creating a new column to contain the day of the week of appointment\n",
    "df_clean['Day'] = df_clean['AppointmentDay'].dt.day_name()"
   ]
  },
  {
   "cell_type": "code",
   "execution_count": 83,
   "metadata": {
    "execution": {
     "iopub.execute_input": "2022-09-27T11:21:24.760449Z",
     "iopub.status.busy": "2022-09-27T11:21:24.759497Z",
     "iopub.status.idle": "2022-09-27T11:21:24.813206Z",
     "shell.execute_reply": "2022-09-27T11:21:24.809134Z",
     "shell.execute_reply.started": "2022-09-27T11:21:24.760392Z"
    }
   },
   "outputs": [
    {
     "data": {
      "text/plain": [
       "Wednesday    25867\n",
       "Tuesday      25640\n",
       "Monday       22714\n",
       "Friday       19019\n",
       "Thursday     17247\n",
       "Saturday        39\n",
       "Name: Day, dtype: int64"
      ]
     },
     "execution_count": 83,
     "metadata": {},
     "output_type": "execute_result"
    }
   ],
   "source": [
    "# checking distribution\n",
    "df_clean['Day'].value_counts()"
   ]
  },
  {
   "cell_type": "markdown",
   "metadata": {},
   "source": [
    "No Sunday because there were no appointments on Sundays."
   ]
  },
  {
   "cell_type": "code",
   "execution_count": 84,
   "metadata": {
    "execution": {
     "iopub.execute_input": "2022-09-27T11:21:24.818410Z",
     "iopub.status.busy": "2022-09-27T11:21:24.817293Z",
     "iopub.status.idle": "2022-09-27T11:21:25.063473Z",
     "shell.execute_reply": "2022-09-27T11:21:25.062499Z",
     "shell.execute_reply.started": "2022-09-27T11:21:24.818350Z"
    },
    "scrolled": true
   },
   "outputs": [
    {
     "data": {
      "image/png": "[encoded data removed]",
      "text/plain": [
       "<Figure size 432x288 with 1 Axes>"
      ]
     },
     "metadata": {
      "needs_background": "light"
     },
     "output_type": "display_data"
    }
   ],
   "source": [
    "# plotting value counts above on a bar chart\n",
    "ax = df_clean['Day'].value_counts().plot(\n",
    "        kind='bar',\n",
    "        title = 'No of patients by Appointment day',\n",
    "        rot=0)\n",
    "ax.set_xlabel('Appointment day')\n",
    "ax.set_ylabel('No. of patients');"
   ]
  },
  {
   "cell_type": "code",
   "execution_count": 85,
   "metadata": {
    "execution": {
     "iopub.execute_input": "2022-09-27T11:21:25.065548Z",
     "iopub.status.busy": "2022-09-27T11:21:25.064901Z",
     "iopub.status.idle": "2022-09-27T11:21:25.105151Z",
     "shell.execute_reply": "2022-09-27T11:21:25.103256Z",
     "shell.execute_reply.started": "2022-09-27T11:21:25.065512Z"
    }
   },
   "outputs": [
    {
     "data": {
      "text/html": [
       "<div>\n",
       "<style scoped>\n",
       "    .dataframe tbody tr th:only-of-type {\n",
       "        vertical-align: middle;\n",
       "    }\n",
       "\n",
       "    .dataframe tbody tr th {\n",
       "        vertical-align: top;\n",
       "    }\n",
       "\n",
       "    .dataframe thead th {\n",
       "        text-align: right;\n",
       "    }\n",
       "</style>\n",
       "<table border=\"1\" class=\"dataframe\">\n",
       "  <thead>\n",
       "    <tr style=\"text-align: right;\">\n",
       "      <th>NoShow</th>\n",
       "      <th>No</th>\n",
       "      <th>Yes</th>\n",
       "    </tr>\n",
       "    <tr>\n",
       "      <th>Day</th>\n",
       "      <th></th>\n",
       "      <th></th>\n",
       "    </tr>\n",
       "  </thead>\n",
       "  <tbody>\n",
       "    <tr>\n",
       "      <th>Friday</th>\n",
       "      <td>14982</td>\n",
       "      <td>4037</td>\n",
       "    </tr>\n",
       "    <tr>\n",
       "      <th>Monday</th>\n",
       "      <td>18024</td>\n",
       "      <td>4690</td>\n",
       "    </tr>\n",
       "    <tr>\n",
       "      <th>Saturday</th>\n",
       "      <td>30</td>\n",
       "      <td>9</td>\n",
       "    </tr>\n",
       "    <tr>\n",
       "      <th>Thursday</th>\n",
       "      <td>13909</td>\n",
       "      <td>3338</td>\n",
       "    </tr>\n",
       "    <tr>\n",
       "      <th>Tuesday</th>\n",
       "      <td>20488</td>\n",
       "      <td>5152</td>\n",
       "    </tr>\n",
       "    <tr>\n",
       "      <th>Wednesday</th>\n",
       "      <td>20774</td>\n",
       "      <td>5093</td>\n",
       "    </tr>\n",
       "  </tbody>\n",
       "</table>\n",
       "</div>"
      ],
      "text/plain": [
       "NoShow        No   Yes\n",
       "Day                   \n",
       "Friday     14982  4037\n",
       "Monday     18024  4690\n",
       "Saturday      30     9\n",
       "Thursday   13909  3338\n",
       "Tuesday    20488  5152\n",
       "Wednesday  20774  5093"
      ]
     },
     "execution_count": 85,
     "metadata": {},
     "output_type": "execute_result"
    }
   ],
   "source": [
    "# creating a pivot table\n",
    "dow = df_clean.groupby(['Day','NoShow'],as_index=False).size()\n",
    "dow_pivot = pd.pivot(dow, index='Day',columns='NoShow',values='size')\n",
    "dow_pivot"
   ]
  },
  {
   "cell_type": "code",
   "execution_count": 86,
   "metadata": {
    "execution": {
     "iopub.execute_input": "2022-09-27T11:21:25.107274Z",
     "iopub.status.busy": "2022-09-27T11:21:25.106876Z",
     "iopub.status.idle": "2022-09-27T11:21:25.195935Z",
     "shell.execute_reply": "2022-09-27T11:21:25.194132Z",
     "shell.execute_reply.started": "2022-09-27T11:21:25.107239Z"
    }
   },
   "outputs": [
    {
     "data": {
      "text/plain": [
       "0.79"
      ]
     },
     "execution_count": 86,
     "metadata": {},
     "output_type": "execute_result"
    }
   ],
   "source": [
    "#number of patients who had their appointment on a Monday\n",
    "mon_count = df_clean.query('Day == \"Monday\"').count().Day\n",
    "# number of monday appointments who showed up\n",
    "mon_show = df_clean.query('Day == \"Monday\" & NoShow == \"No\"').count().Day\n",
    "# calculating probability\n",
    "mon_show_prob = probability(mon_show,mon_count)\n",
    "round(mon_show_prob,2)"
   ]
  },
  {
   "cell_type": "markdown",
   "metadata": {},
   "source": [
    "The probability of a patient who had their appointment on a Monday showing up is 0.79"
   ]
  },
  {
   "cell_type": "code",
   "execution_count": 87,
   "metadata": {
    "execution": {
     "iopub.execute_input": "2022-09-27T11:21:25.198370Z",
     "iopub.status.busy": "2022-09-27T11:21:25.197941Z",
     "iopub.status.idle": "2022-09-27T11:21:25.264375Z",
     "shell.execute_reply": "2022-09-27T11:21:25.262756Z",
     "shell.execute_reply.started": "2022-09-27T11:21:25.198335Z"
    }
   },
   "outputs": [
    {
     "data": {
      "text/plain": [
       "0.8"
      ]
     },
     "execution_count": 87,
     "metadata": {},
     "output_type": "execute_result"
    }
   ],
   "source": [
    "# number of patients who had their appointments on a Tuesday\n",
    "tue_count = df_clean.query('Day == \"Tuesday\"').count().Day\n",
    "# number of Tuesday appointments who showed up\n",
    "tue_show = df_clean.query('Day == \"Tuesday\" & NoShow == \"No\"').count().Day\n",
    "# calculating probability\n",
    "tue_show_prob = probability(tue_show,tue_count)\n",
    "round(tue_show_prob,2)"
   ]
  },
  {
   "cell_type": "markdown",
   "metadata": {},
   "source": [
    "The probability of a patient who had their appointment on a Tuesday showing up is 0.8"
   ]
  },
  {
   "cell_type": "code",
   "execution_count": 88,
   "metadata": {
    "execution": {
     "iopub.execute_input": "2022-09-27T11:21:25.269617Z",
     "iopub.status.busy": "2022-09-27T11:21:25.268258Z",
     "iopub.status.idle": "2022-09-27T11:21:25.334564Z",
     "shell.execute_reply": "2022-09-27T11:21:25.333329Z",
     "shell.execute_reply.started": "2022-09-27T11:21:25.269563Z"
    }
   },
   "outputs": [
    {
     "data": {
      "text/plain": [
       "0.8"
      ]
     },
     "execution_count": 88,
     "metadata": {},
     "output_type": "execute_result"
    }
   ],
   "source": [
    "# number of patients who had their appointments on a Wednesday\n",
    "wed_count = df_clean.query('Day == \"Wednesday\"').count().Day\n",
    "# number of Wednesday appointments who showed\n",
    "wed_show = df_clean.query('Day == \"Wednesday\" & NoShow == \"No\"').count().Day\n",
    "# calculating probability\n",
    "wed_show_prob = probability(wed_show,wed_count)\n",
    "round(wed_show_prob,2)"
   ]
  },
  {
   "cell_type": "markdown",
   "metadata": {},
   "source": [
    "The probability of a patient who had their appointment on a Wednesday showing up is 0.8"
   ]
  },
  {
   "cell_type": "code",
   "execution_count": 89,
   "metadata": {
    "execution": {
     "iopub.execute_input": "2022-09-27T11:21:25.337524Z",
     "iopub.status.busy": "2022-09-27T11:21:25.336706Z",
     "iopub.status.idle": "2022-09-27T11:21:25.396143Z",
     "shell.execute_reply": "2022-09-27T11:21:25.394100Z",
     "shell.execute_reply.started": "2022-09-27T11:21:25.337483Z"
    }
   },
   "outputs": [
    {
     "data": {
      "text/plain": [
       "0.81"
      ]
     },
     "execution_count": 89,
     "metadata": {},
     "output_type": "execute_result"
    }
   ],
   "source": [
    "# number of patients who had their appointments on a Thursday\n",
    "thurs_count = df_clean.query('Day == \"Thursday\"').count().Day\n",
    "# number of Thursday appointments who showed\n",
    "thurs_show = df_clean.query('Day == \"Thursday\" & NoShow == \"No\"').count().Day\n",
    "# calculating probability\n",
    "thurs_show_prob = probability(thurs_show,thurs_count)\n",
    "round(thurs_show_prob,2)"
   ]
  },
  {
   "cell_type": "markdown",
   "metadata": {},
   "source": [
    "The probability of a patient whp had their appointment on a Thursday showing up is 0.81"
   ]
  },
  {
   "cell_type": "code",
   "execution_count": 90,
   "metadata": {
    "execution": {
     "iopub.execute_input": "2022-09-27T11:21:25.398537Z",
     "iopub.status.busy": "2022-09-27T11:21:25.398147Z",
     "iopub.status.idle": "2022-09-27T11:21:25.458207Z",
     "shell.execute_reply": "2022-09-27T11:21:25.457174Z",
     "shell.execute_reply.started": "2022-09-27T11:21:25.398501Z"
    }
   },
   "outputs": [
    {
     "data": {
      "text/plain": [
       "0.79"
      ]
     },
     "execution_count": 90,
     "metadata": {},
     "output_type": "execute_result"
    }
   ],
   "source": [
    "# number of patients who had their appointments on a Friday\n",
    "fri_count = df_clean.query('Day == \"Friday\"').count().Day\n",
    "# number of Friday appointments who showed up\n",
    "fri_show = df_clean.query('Day == \"Friday\" & NoShow == \"No\"').count().Day\n",
    "# calculating probability\n",
    "fri_show_prob = probability(fri_show,fri_count)\n",
    "round(fri_show_prob,2)"
   ]
  },
  {
   "cell_type": "markdown",
   "metadata": {},
   "source": [
    "The probability of a patient with appointment on a Friday showing up is 0.79"
   ]
  },
  {
   "cell_type": "code",
   "execution_count": 91,
   "metadata": {
    "execution": {
     "iopub.execute_input": "2022-09-27T11:21:25.460288Z",
     "iopub.status.busy": "2022-09-27T11:21:25.459908Z",
     "iopub.status.idle": "2022-09-27T11:21:25.499395Z",
     "shell.execute_reply": "2022-09-27T11:21:25.498151Z",
     "shell.execute_reply.started": "2022-09-27T11:21:25.460255Z"
    }
   },
   "outputs": [
    {
     "data": {
      "text/plain": [
       "0.77"
      ]
     },
     "execution_count": 91,
     "metadata": {},
     "output_type": "execute_result"
    }
   ],
   "source": [
    "# number of patients who had their appointments on a Saturday\n",
    "sat_count = df_clean.query('Day == \"Saturday\"').count().Day\n",
    "# number of Saturday appointments who showed\n",
    "sat_show = df_clean.query('Day == \"Saturday\" & NoShow == \"No\"').count().Day\n",
    "# calculating probability\n",
    "sat_show_prob = probability(sat_show,sat_count)\n",
    "round(sat_show_prob,2)"
   ]
  },
  {
   "cell_type": "markdown",
   "metadata": {},
   "source": [
    "The probability of a patient who had their appointment on a Saturday showing up is 0.77"
   ]
  },
  {
   "cell_type": "markdown",
   "metadata": {},
   "source": [
    "Aside Saturday, the probability of a patient with an appointment on each of the other days is almost the same therefore I maintain that day of appointment is not significant in predicting whether a patient will show up or not."
   ]
  },
  {
   "cell_type": "markdown",
   "metadata": {},
   "source": [
    "### Age"
   ]
  },
  {
   "cell_type": "code",
   "execution_count": 92,
   "metadata": {
    "execution": {
     "iopub.execute_input": "2022-09-27T11:21:25.501843Z",
     "iopub.status.busy": "2022-09-27T11:21:25.501011Z",
     "iopub.status.idle": "2022-09-27T11:21:25.765842Z",
     "shell.execute_reply": "2022-09-27T11:21:25.764872Z",
     "shell.execute_reply.started": "2022-09-27T11:21:25.501715Z"
    }
   },
   "outputs": [
    {
     "data": {
      "image/png": "[encoded data removed]",
      "text/plain": [
       "<Figure size 432x288 with 1 Axes>"
      ]
     },
     "metadata": {
      "needs_background": "light"
     },
     "output_type": "display_data"
    }
   ],
   "source": [
    "# plotting distribution of ages\n",
    "bins = np.arange(0,df_clean['Age'].max()+10,10)\n",
    "plt.hist(data=df_clean,x='Age',bins=10)\n",
    "plt.xlim((0,100));"
   ]
  },
  {
   "cell_type": "code",
   "execution_count": 93,
   "metadata": {
    "execution": {
     "iopub.execute_input": "2022-09-27T11:21:25.768350Z",
     "iopub.status.busy": "2022-09-27T11:21:25.767574Z",
     "iopub.status.idle": "2022-09-27T11:21:25.799870Z",
     "shell.execute_reply": "2022-09-27T11:21:25.798587Z",
     "shell.execute_reply.started": "2022-09-27T11:21:25.768301Z"
    }
   },
   "outputs": [],
   "source": [
    "# breaking ages down into categories\n",
    "conditions = [(df_clean['Age'] <= 12),\n",
    "             (df_clean['Age'] > 12)&(df_clean['Age'] <= 18),\n",
    "             (df_clean['Age'] > 18)&(df_clean['Age'] <= 60),\n",
    "             (df_clean['Age'] > 60)]\n",
    "values = ['child','teenager','adult','elderly']\n",
    "df_clean['AgeCategory'] = np.select(conditions,values)"
   ]
  },
  {
   "cell_type": "code",
   "execution_count": 94,
   "metadata": {
    "execution": {
     "iopub.execute_input": "2022-09-27T11:21:25.802922Z",
     "iopub.status.busy": "2022-09-27T11:21:25.801657Z",
     "iopub.status.idle": "2022-09-27T11:21:25.830187Z",
     "shell.execute_reply": "2022-09-27T11:21:25.827233Z",
     "shell.execute_reply.started": "2022-09-27T11:21:25.802881Z"
    }
   },
   "outputs": [
    {
     "data": {
      "text/plain": [
       "adult       61898\n",
       "child       21036\n",
       "elderly     19762\n",
       "teenager     7830\n",
       "Name: AgeCategory, dtype: int64"
      ]
     },
     "execution_count": 94,
     "metadata": {},
     "output_type": "execute_result"
    }
   ],
   "source": [
    "# checking distribution of age breakdown\n",
    "df_clean['AgeCategory'].value_counts()"
   ]
  },
  {
   "cell_type": "code",
   "execution_count": 95,
   "metadata": {
    "execution": {
     "iopub.execute_input": "2022-09-27T11:21:25.833762Z",
     "iopub.status.busy": "2022-09-27T11:21:25.832323Z",
     "iopub.status.idle": "2022-09-27T11:21:26.066341Z",
     "shell.execute_reply": "2022-09-27T11:21:26.064983Z",
     "shell.execute_reply.started": "2022-09-27T11:21:25.833636Z"
    }
   },
   "outputs": [
    {
     "data": {
      "image/png": "[encoded data removed]",
      "text/plain": [
       "<Figure size 432x288 with 1 Axes>"
      ]
     },
     "metadata": {
      "needs_background": "light"
     },
     "output_type": "display_data"
    }
   ],
   "source": [
    "# plotting value counts above in a bar chart\n",
    "ax = df_clean['AgeCategory'].value_counts().plot(\n",
    "        kind='bar',\n",
    "        title = 'No. of patients by age group',\n",
    "        rot=0)\n",
    "ax.set_xlabel('Age group')\n",
    "ax.set_ylabel('No. of patients');"
   ]
  },
  {
   "cell_type": "code",
   "execution_count": 96,
   "metadata": {
    "execution": {
     "iopub.execute_input": "2022-09-27T11:21:26.069411Z",
     "iopub.status.busy": "2022-09-27T11:21:26.068025Z",
     "iopub.status.idle": "2022-09-27T11:21:26.112143Z",
     "shell.execute_reply": "2022-09-27T11:21:26.110507Z",
     "shell.execute_reply.started": "2022-09-27T11:21:26.069364Z"
    }
   },
   "outputs": [
    {
     "data": {
      "text/html": [
       "<div>\n",
       "<style scoped>\n",
       "    .dataframe tbody tr th:only-of-type {\n",
       "        vertical-align: middle;\n",
       "    }\n",
       "\n",
       "    .dataframe tbody tr th {\n",
       "        vertical-align: top;\n",
       "    }\n",
       "\n",
       "    .dataframe thead th {\n",
       "        text-align: right;\n",
       "    }\n",
       "</style>\n",
       "<table border=\"1\" class=\"dataframe\">\n",
       "  <thead>\n",
       "    <tr style=\"text-align: right;\">\n",
       "      <th>NoShow</th>\n",
       "      <th>No</th>\n",
       "      <th>Yes</th>\n",
       "    </tr>\n",
       "    <tr>\n",
       "      <th>AgeCategory</th>\n",
       "      <th></th>\n",
       "      <th></th>\n",
       "    </tr>\n",
       "  </thead>\n",
       "  <tbody>\n",
       "    <tr>\n",
       "      <th>adult</th>\n",
       "      <td>48932</td>\n",
       "      <td>12966</td>\n",
       "    </tr>\n",
       "    <tr>\n",
       "      <th>child</th>\n",
       "      <td>16729</td>\n",
       "      <td>4307</td>\n",
       "    </tr>\n",
       "    <tr>\n",
       "      <th>elderly</th>\n",
       "      <td>16756</td>\n",
       "      <td>3006</td>\n",
       "    </tr>\n",
       "    <tr>\n",
       "      <th>teenager</th>\n",
       "      <td>5790</td>\n",
       "      <td>2040</td>\n",
       "    </tr>\n",
       "  </tbody>\n",
       "</table>\n",
       "</div>"
      ],
      "text/plain": [
       "NoShow          No    Yes\n",
       "AgeCategory              \n",
       "adult        48932  12966\n",
       "child        16729   4307\n",
       "elderly      16756   3006\n",
       "teenager      5790   2040"
      ]
     },
     "execution_count": 96,
     "metadata": {},
     "output_type": "execute_result"
    }
   ],
   "source": [
    "# creating a pivot table\n",
    "age_cat = df_clean.groupby(['AgeCategory','NoShow'],as_index=False).size()\n",
    "ac_pivot = pd.pivot(age_cat, index='AgeCategory',columns='NoShow',values='size')\n",
    "ac_pivot"
   ]
  },
  {
   "cell_type": "code",
   "execution_count": 97,
   "metadata": {
    "execution": {
     "iopub.execute_input": "2022-09-27T11:21:26.117358Z",
     "iopub.status.busy": "2022-09-27T11:21:26.116823Z",
     "iopub.status.idle": "2022-09-27T11:21:26.530863Z",
     "shell.execute_reply": "2022-09-27T11:21:26.529097Z",
     "shell.execute_reply.started": "2022-09-27T11:21:26.117321Z"
    }
   },
   "outputs": [
    {
     "data": {
      "image/png": "[encoded data removed]",
      "text/plain": [
       "<Figure size 432x288 with 1 Axes>"
      ]
     },
     "metadata": {
      "needs_background": "light"
     },
     "output_type": "display_data"
    }
   ],
   "source": [
    "# plotting pivot table on a grouoed bar chart\n",
    "ax = ac_pivot.plot(\n",
    "        kind = 'bar',\n",
    "        title = 'Show/No-Show by Age group',\n",
    "        rot=0)\n",
    "ax.set_xlabel('Age group')\n",
    "ax.set_ylabel('No. of patients');"
   ]
  },
  {
   "cell_type": "code",
   "execution_count": 98,
   "metadata": {
    "execution": {
     "iopub.execute_input": "2022-09-27T11:21:26.534658Z",
     "iopub.status.busy": "2022-09-27T11:21:26.534133Z",
     "iopub.status.idle": "2022-09-27T11:21:26.657790Z",
     "shell.execute_reply": "2022-09-27T11:21:26.655813Z",
     "shell.execute_reply.started": "2022-09-27T11:21:26.534607Z"
    }
   },
   "outputs": [
    {
     "data": {
      "text/plain": [
       "0.8"
      ]
     },
     "execution_count": 98,
     "metadata": {},
     "output_type": "execute_result"
    }
   ],
   "source": [
    "# number of children\n",
    "child_count = df_clean.query('AgeCategory == \"child\"').count().AgeCategory\n",
    "#number of children who showed\n",
    "child_show = df_clean.query('AgeCategory == \"child\" & NoShow == \"No\"').count().AgeCategory\n",
    "# calculating probability\n",
    "child_show_prob = probability(child_show,child_count)\n",
    "round(child_show_prob,2)"
   ]
  },
  {
   "cell_type": "markdown",
   "metadata": {},
   "source": [
    "The probability of a child patient showing up is 0.8"
   ]
  },
  {
   "cell_type": "code",
   "execution_count": 99,
   "metadata": {
    "execution": {
     "iopub.execute_input": "2022-09-27T11:21:26.660817Z",
     "iopub.status.busy": "2022-09-27T11:21:26.659547Z",
     "iopub.status.idle": "2022-09-27T11:21:26.718031Z",
     "shell.execute_reply": "2022-09-27T11:21:26.716497Z",
     "shell.execute_reply.started": "2022-09-27T11:21:26.660765Z"
    }
   },
   "outputs": [
    {
     "data": {
      "text/plain": [
       "0.74"
      ]
     },
     "execution_count": 99,
     "metadata": {},
     "output_type": "execute_result"
    }
   ],
   "source": [
    "# number of teenagers\n",
    "teen_count = df_clean.query('AgeCategory == \"teenager\"').count().AgeCategory\n",
    "#number of teenagers who showed\n",
    "teen_show = df_clean.query('AgeCategory == \"teenager\" & NoShow == \"No\"').count().AgeCategory\n",
    "# calculating probability\n",
    "teen_show_prob = probability(teen_show,teen_count)\n",
    "round(teen_show_prob,2)"
   ]
  },
  {
   "cell_type": "markdown",
   "metadata": {},
   "source": [
    "The probability of a teenage patient showing up is 0.74"
   ]
  },
  {
   "cell_type": "code",
   "execution_count": 100,
   "metadata": {
    "execution": {
     "iopub.execute_input": "2022-09-27T11:21:26.720740Z",
     "iopub.status.busy": "2022-09-27T11:21:26.720259Z",
     "iopub.status.idle": "2022-09-27T11:21:26.830327Z",
     "shell.execute_reply": "2022-09-27T11:21:26.828826Z",
     "shell.execute_reply.started": "2022-09-27T11:21:26.720693Z"
    }
   },
   "outputs": [
    {
     "data": {
      "text/plain": [
       "0.79"
      ]
     },
     "execution_count": 100,
     "metadata": {},
     "output_type": "execute_result"
    }
   ],
   "source": [
    "# number of adults\n",
    "adult_count = df_clean.query('AgeCategory == \"adult\"').count().AgeCategory\n",
    "# number of adults who showed up\n",
    "adult_show = df_clean.query('AgeCategory == \"adult\" & NoShow == \"No\"').count().AgeCategory\n",
    "# calculating probability\n",
    "adult_show_prob = probability(adult_show,adult_count)\n",
    "round(adult_show_prob,2)"
   ]
  },
  {
   "cell_type": "markdown",
   "metadata": {},
   "source": [
    "The probability of an adult patient showing up is 0.79"
   ]
  },
  {
   "cell_type": "code",
   "execution_count": 101,
   "metadata": {
    "execution": {
     "iopub.execute_input": "2022-09-27T11:21:26.832347Z",
     "iopub.status.busy": "2022-09-27T11:21:26.831958Z",
     "iopub.status.idle": "2022-09-27T11:21:26.916415Z",
     "shell.execute_reply": "2022-09-27T11:21:26.915122Z",
     "shell.execute_reply.started": "2022-09-27T11:21:26.832313Z"
    }
   },
   "outputs": [
    {
     "data": {
      "text/plain": [
       "0.85"
      ]
     },
     "execution_count": 101,
     "metadata": {},
     "output_type": "execute_result"
    }
   ],
   "source": [
    "# number of elderly patients\n",
    "elderly_count = df_clean.query('AgeCategory == \"elderly\"').count().AgeCategory\n",
    "# number of elderly patients who showed up\n",
    "elderly_show = df_clean.query('AgeCategory == \"elderly\" & NoShow == \"No\"').count().AgeCategory\n",
    "# calculating probability\n",
    "elderly_show_prob = probability(elderly_show,elderly_count)\n",
    "round(elderly_show_prob,2)"
   ]
  },
  {
   "cell_type": "markdown",
   "metadata": {},
   "source": [
    "The probability of an elderly patient showing up is 0.85"
   ]
  },
  {
   "cell_type": "markdown",
   "metadata": {},
   "source": [
    "* Given the varying probabilities across the age groups, age is an important factor in predicting whether a patient will show up for their appointment."
   ]
  },
  {
   "cell_type": "markdown",
   "metadata": {},
   "source": [
    "<a id='conclusions'></a>\n",
    "## Conclusions"
   ]
  },
  {
   "cell_type": "markdown",
   "metadata": {},
   "source": [
    "Individual independent variables that can be used in prediction include:\n",
    "* Scholarship\n",
    "* SMS received\n",
    "* Hypertension\n",
    "* Handicap\n",
    "* Age"
   ]
  },
  {
   "cell_type": "markdown",
   "metadata": {},
   "source": [
    "### Limitations\n",
    "\n",
    "Even though some of the independent variables like gender and alcoholism can not be used singularly to predict whether a patient will show up, combining them with other independent variables may give them some predictive power or effect on the dependent variable.This study did not investigate a combination of independent variables on the dependent variable so conclusions drawn are for the the independent variables just as they are. "
   ]
  }
 ],
 "metadata": {
  "kernelspec": {
   "display_name": "Python 3 (ipykernel)",
   "language": "python",
   "name": "python3"
  },
  "language_info": {
   "codemirror_mode": {
    "name": "ipython",
    "version": 3
   },
   "file_extension": ".py",
   "mimetype": "text/x-python",
   "name": "python",
   "nbconvert_exporter": "python",
   "pygments_lexer": "ipython3",
   "version": "3.9.12"
  }
 },
 "nbformat": 4,
 "nbformat_minor": 4
}
